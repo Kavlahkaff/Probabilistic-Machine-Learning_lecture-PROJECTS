{
  "cells": [
    {
      "metadata": {
        "id": "515fbb63385dfbbf"
      },
      "cell_type": "markdown",
      "source": [
        "## 1. Introduction\n",
        "\n",
        "- Brief description of the dataset and problem\n",
        "- Motivation for your project"
      ],
      "id": "515fbb63385dfbbf"
    },
    {
      "metadata": {
        "id": "99d6533581693a48"
      },
      "cell_type": "markdown",
      "source": [
        "Hudl Statsbomb claims to be offering the most comprehensive and flexible football data. The company makes some of their data freely available to equip the next generation of analysts with the tools, training and resources needed to succeed in the industry. The available data range from historical matches to analyse legends of the game (link Pele, Cruyff) over outstanding seasons and tournaments (link Leverkusen, Womens World Cup) to all matches from Lionel Messis career (link Messi). In total there are data and every event that happend for over 3000 matches from more than 20 competitions. They are puplished on the statsbomb github (link to github). Libraries for processing the data in python are also available (link mplsoccer).\n",
        "\n",
        "In this project I want to use these data to create an expected goals model (xG). My motivation stems from two perspectives.\n",
        "\n",
        "First, like so many, I am a huge football fan.\n",
        "\n",
        "As a football coach (and huge fan of the sport) I want to use these data to develop an expected goals model (xG) myself. The xG metric nowadays is shown on the broadcast of every professional match. Firstly, I want to understand what's really behind the model to deepen my understanding.  Building an xG model excites me as it combines my passion for football with my interest in data science and machine learning. I see it as a way to quantify the quality of scoring chances, which can offer more nuanced evaluations of players and teams. Ultimately, this project will allow me to apply technical skills to a real-world problem I care about, and contribute to the growing field of sports analytics.\n",
        "\n"
      ],
      "id": "99d6533581693a48"
    }
  ],
  "metadata": {
    "kernelspec": {
      "display_name": "Python 3",
      "language": "python",
      "name": "python3"
    },
    "language_info": {
      "codemirror_mode": {
        "name": "ipython",
        "version": 2
      },
      "file_extension": ".py",
      "mimetype": "text/x-python",
      "name": "python",
      "nbconvert_exporter": "python",
      "pygments_lexer": "ipython2",
      "version": "2.7.6"
    },
    "colab": {
      "provenance": []
    }
  },
  "nbformat": 4,
  "nbformat_minor": 5
}