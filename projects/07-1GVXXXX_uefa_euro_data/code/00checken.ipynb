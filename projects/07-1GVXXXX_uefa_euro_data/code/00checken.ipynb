{
 "cells": [
  {
   "cell_type": "code",
   "execution_count": null,
   "id": "26236fdf",
   "metadata": {},
   "outputs": [],
   "source": [
    "import pandas as pd\n",
    "\n",
    "data_dir = \"../data\"\n",
    "# Lade den gemergten DataFrame (falls nicht schon geschehen)\n",
    "df = pd.read_csv(\"merged_players_clean.csv\")  # ggf. anpassen\n",
    "\n",
    "# Überblick: Spalten, Datentypen und fehlende Werte\n",
    "print(\"🔎 Datenstruktur:\")\n",
    "print(df.info())\n",
    "\n",
    "# Anzahl fehlender Werte pro Spalte\n",
    "print(\"\\n❗ Fehlende Werte pro Spalte:\")\n",
    "print(df.isnull().sum())\n",
    "\n",
    "# Statistische Kennzahlen für numerische Spalten\n",
    "print(\"\\n📊 Statistische Kennzahlen:\")\n",
    "print(df.describe())\n"
   ]
  }
 ],
 "metadata": {
  "language_info": {
   "name": "python"
  }
 },
 "nbformat": 4,
 "nbformat_minor": 5
}
