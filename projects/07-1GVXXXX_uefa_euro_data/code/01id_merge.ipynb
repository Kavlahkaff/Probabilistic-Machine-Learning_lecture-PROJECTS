{
 "cells": [
  {
   "cell_type": "code",
   "execution_count": null,
   "id": "dcee7810",
   "metadata": {},
   "outputs": [
    {
     "name": "stdout",
     "output_type": "stream",
     "text": [
      "✅ Datei erfolgreich geladen mit Encoding: utf-8\n",
      "📊 Beispielhafte Zeilen mit neuer ID:\n",
      "             ID                  Player    Pos           Squad Age  Born\n",
      "0  ChFWsc271996               Che Adams     FW    sct Scotland  27  1996\n",
      "1  MiDFch271997        Michel Aebischer     DF  ch Switzerland  27  1997\n",
      "2  ArDFal301993            Arlind Ajeti     DF      al Albania  30  1993\n",
      "3  MaDFch281995           Manuel Akanji     DF  ch Switzerland  28  1995\n",
      "4  SaDFtr291994           Samet Akaydın     DF      tr Türkiye  29  1994\n",
      "5  NaDFnl281995              Nathan Aké     DF  nl Netherlands  28  1995\n",
      "6  YuFWtr232000             Yunus Akgün     FW      tr Türkiye  23  2000\n",
      "7  KeFWtr251998        Kerem Aktürkoğlu  FW/MF      tr Türkiye  25  1998\n",
      "8  TrMFen251998  Trent Alexander-Arnold  MF/DF     eng England  25  1998\n",
      "9  DeFWro331991            Denis Alibec     FW      ro Romania  33  1991\n"
     ]
    }
   ],
   "source": [
    "import pandas as pd\n",
    "import os\n",
    "\n",
    "# 📁 Pfad zur Datei\n",
    "# data_path = \"../data/player_playing_time.csv\"\n",
    "data_path = r\"C:\\Users\\valen\\OneDrive\\Dokumente\\01_Studium\\9\\Probabilistic ML\\CleanData\\Umwandlung\\player_pass_type.CSV\"\n",
    "\n",
    "# 🔧 Robustes Einlesen mit Encoding-Fallback und Quotechar-Schutz\n",
    "def read_csv_robust(filepath):\n",
    "    for enc in [\"utf-8\", \"utf-8-sig\", \"cp1252\"]:\n",
    "        try:\n",
    "            df = pd.read_csv(\n",
    "                filepath,\n",
    "                encoding=enc,\n",
    "                quotechar='\"',            # ← wichtig für \"FW,MF\"\n",
    "                skip_blank_lines=True\n",
    "            )\n",
    "            print(f\"✅ Datei erfolgreich geladen mit Encoding: {enc}\")\n",
    "            return df\n",
    "        except Exception as e:\n",
    "            print(f\"⚠️ Fehler bei Encoding {enc}: {e}\")\n",
    "    raise ValueError(\"❌ Keine lesbare Kodierung gefunden.\")\n",
    "\n",
    "# 📥 Einlesen\n",
    "df = read_csv_robust(data_path)\n",
    "\n",
    "# 🧹 Bereinigen (optional: Entferne Leerzeichen)player_pass_type\n",
    "df[\"Player\"] = df[\"Player\"].astype(str).str.strip()\n",
    "df[\"Pos\"] = df[\"Pos\"].astype(str).str.replace('\"', '').str.strip()\n",
    "df[\"Squad\"] = df[\"Squad\"].astype(str).str.strip()\n",
    "df[\"Age\"] = df[\"Age\"].astype(str).str.strip()\n",
    "df[\"Born\"] = df[\"Born\"].astype(str).str.strip()\n",
    "\n",
    "# 🆔 Neue ID generieren aus:\n",
    "# Erste 2 Buchstaben von Player + Pos + Squad + Age + Born\n",
    "df[\"ID\"] = (\n",
    "    df[\"Player\"].str[:2] +\n",
    "    df[\"Pos\"].str[:2] +\n",
    "    df[\"Squad\"].str[:2] +\n",
    "    df[\"Age\"] +\n",
    "    df[\"Born\"]\n",
    ")\n",
    "\n",
    "# 🖨️ Vorschau\n",
    "print(\"📊 Beispielhafte Zeilen mit neuer ID:\")\n",
    "print(df[[\"ID\", \"Player\", \"Pos\", \"Squad\", \"Age\", \"Born\"]].head(10))\n",
    "\n",
    "# 💾 Optional: Speichern\n",
    "df.to_csv(\"../data/player_pass_type_with_id.csv\", index=False)\n"
   ]
  },
  {
   "cell_type": "code",
   "execution_count": 23,
   "id": "315e8a2c",
   "metadata": {},
   "outputs": [
    {
     "name": "stdout",
     "output_type": "stream",
     "text": [
      "Vorher (raw values): ['MF' 'FW' 'DF' 'GK']\n",
      "Nachher (bereinigt): ['MF' 'FW' 'DF' 'nan' 'GK']\n"
     ]
    }
   ],
   "source": [
    "import pandas as pd\n",
    "\n",
    "# Datei einlesen (Pfad ggf. anpassen)\n",
    "df = pd.read_csv(\"../data/player_playing_time.csv\")\n",
    "\n",
    "# 🔍 Vorher: Ein paar Einträge aus der Spalte anzeigen\n",
    "print(\"Vorher (raw values):\", df[\"Pos\"].dropna().unique()[:10])\n",
    "\n",
    "# 🧹 Bereinigungsschritte:\n",
    "df[\"Pos\"] = (\n",
    "    df[\"Pos\"]\n",
    "    .astype(str)                   # Stelle sicher, dass es Strings sind\n",
    "    .str.strip()                   # Entferne Leerzeichen an Anfang/Ende\n",
    "    .str.replace(r'[\\s\"]+', '', regex=True)  # Entferne überflüssige Leerzeichen und Anführungszeichen\n",
    "    .str.replace(\",\", \"/\", regex=False)      # Ersetze Komma durch Slash\n",
    ")\n",
    "\n",
    "# ✅ Kontrolle danach\n",
    "print(\"Nachher (bereinigt):\", df[\"Pos\"].dropna().unique()[:10])\n",
    "\n",
    "# 💾 Optional: Speichern\n",
    "# df.to_csv(\"../data/player_playing_time_cleaned.csv\", index=False)\n"
   ]
  }
 ],
 "metadata": {
  "kernelspec": {
   "display_name": "base",
   "language": "python",
   "name": "python3"
  },
  "language_info": {
   "codemirror_mode": {
    "name": "ipython",
    "version": 3
   },
   "file_extension": ".py",
   "mimetype": "text/x-python",
   "name": "python",
   "nbconvert_exporter": "python",
   "pygments_lexer": "ipython3",
   "version": "3.11.5"
  }
 },
 "nbformat": 4,
 "nbformat_minor": 5
}
