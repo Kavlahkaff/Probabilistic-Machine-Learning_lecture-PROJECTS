{
 "cells": [
  {
   "cell_type": "code",
   "execution_count": null,
   "id": "8ad2206b",
   "metadata": {},
   "outputs": [],
   "source": [
    "from collections import defaultdict\n",
    "\n",
    "# Spaltennamen-Liste\n",
    "columns = df.columns\n",
    "\n",
    "# Feature-Gruppen initialisieren\n",
    "feature_groups = defaultdict(list)\n",
    "\n",
    "# Regeln zur Gruppierung\n",
    "grouping_rules = {\n",
    "    'passing': ['pass', 'cross', 'cmp', 'ppa', 'kp', 'xag', 'xa', 'switch', 'through'],\n",
    "    'defending': ['tackle', 'int', 'block', 'clear', 'press', 'challenge', 'error'],\n",
    "    'attacking': ['shot', 'goal', 'xg', 'sot', 'dist', 'gca', 'sca', 'ass'],\n",
    "    'possession': ['touch', 'carry', 'take', 'rec', 'dribble', 'miscontrol', 'dispossess'],\n",
    "    'goalkeeping': ['save', 'clean', 'sota', 'psxg', 'cs%', 'ga90', 'keeper'],\n",
    "    'meta': ['minute', 'start', 'match', 'game', 'age', 'born', 'position', 'rank']\n",
    "}\n",
    "\n",
    "# Gruppieren\n",
    "for col in columns:\n",
    "    added = False\n",
    "    for group, keywords in grouping_rules.items():\n",
    "        if any(keyword in col.lower() for keyword in keywords):\n",
    "            feature_groups[group].append(col)\n",
    "            added = True\n",
    "            break\n",
    "    if not added:\n",
    "        feature_groups['other'].append(col)  # falls nichts passt\n",
    "\n",
    "# Ergebnis anzeigen\n",
    "for group, cols in feature_groups.items():\n",
    "    print(f\"\\n📂 {group.upper()} ({len(cols)} Features):\")\n",
    "    print(cols)\n"
   ]
  }
 ],
 "metadata": {
  "language_info": {
   "name": "python"
  }
 },
 "nbformat": 4,
 "nbformat_minor": 5
}
