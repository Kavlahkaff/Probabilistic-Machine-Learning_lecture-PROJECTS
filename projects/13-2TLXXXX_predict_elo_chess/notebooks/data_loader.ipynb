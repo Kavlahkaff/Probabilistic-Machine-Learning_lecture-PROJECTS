{
 "cells": [
  {
   "metadata": {},
   "cell_type": "code",
   "source": [
    "from datasets import load_dataset\n",
    "import pandas as pd\n"
   ],
   "id": "1b97ab2f3176f76c",
   "outputs": [],
   "execution_count": null
  },
  {
   "metadata": {
    "ExecuteTime": {
     "end_time": "2025-06-08T11:32:21.356498Z",
     "start_time": "2025-06-08T10:53:52.406624Z"
    }
   },
   "cell_type": "code",
   "source": [
    "import os\n",
    "import glob\n",
    "import pandas as pd\n",
    "from datasets import load_dataset\n",
    "\n",
    "# assumes data has been downloaded locally\n",
    "local_dir = \"./data\"\n",
    "parquet_pattern = os.path.join(local_dir, \"train-*-of-*.parquet\")\n",
    "shard_paths = sorted(glob.glob(parquet_pattern))\n",
    "\n",
    "if not shard_paths:\n",
    "    raise RuntimeError(f\"No parquet files found at pattern {parquet_pattern}\")\n",
    "\n",
    "# loads local data\n",
    "ds_stream = load_dataset(\n",
    "    \"parquet\",\n",
    "    data_files={\"games\": shard_paths},\n",
    "    split=\"games\",\n",
    "    streaming=True\n",
    ")\n",
    "\n",
    "\n",
    "# function to filter games based on defined constraints\n",
    "#TODO i should probably filter out players that have played less than X total games\n",
    "def keep_game(example) -> bool:\n",
    "    # 1) move_text contains 'eval'\n",
    "    if \"eval\" not in example[\"movetext\"]:\n",
    "        return False\n",
    "\n",
    "    # 2) num_moves >= 4\n",
    "    if \"4. \" not in example.get(\"movetext\"):\n",
    "        return False\n",
    "\n",
    "    # 3) time_control == '600+0'\n",
    "    if example.get(\"TimeControl\", \"\") != \"600+0\":\n",
    "        return False\n",
    "\n",
    "    return True\n",
    "\n",
    "\n",
    "\n",
    "max_matches = 50000\n",
    "filtered_rows = []\n",
    "\n",
    "# Iterate over games and append matching games to array\n",
    "for game in ds_stream:\n",
    "    if keep_game(game):\n",
    "        filtered_rows.append(game)\n",
    "        if len(filtered_rows) >= max_matches:\n",
    "            break\n",
    "\n",
    "# Convert filtered games to pandas.DataFrame\n",
    "df_filtered = pd.DataFrame(filtered_rows)\n",
    "print(f\"Collected {len(df_filtered)} games (up to {max_matches}).\")\n",
    "print(df_filtered.head(50))\n"
   ],
   "id": "8479f34e5b19ee4",
   "outputs": [
    {
     "name": "stdout",
     "output_type": "stream",
     "text": [
      "Collected 232177 games (up to 500000).\n",
      "                                                Event  \\\n",
      "0      Rapid swiss https://lichess.org/swiss/2V3L9Zwn   \n",
      "1      Rapid swiss https://lichess.org/swiss/T9vocdaQ   \n",
      "2      Rapid swiss https://lichess.org/swiss/T9vocdaQ   \n",
      "3      Rapid swiss https://lichess.org/swiss/7siKNYGN   \n",
      "4      Rapid swiss https://lichess.org/swiss/7siKNYGN   \n",
      "5      Rapid swiss https://lichess.org/swiss/7siKNYGN   \n",
      "6      Rapid swiss https://lichess.org/swiss/7siKNYGN   \n",
      "7      Rapid swiss https://lichess.org/swiss/iQC7K9kp   \n",
      "8      Rapid swiss https://lichess.org/swiss/iQC7K9kp   \n",
      "9      Rapid swiss https://lichess.org/swiss/iQC7K9kp   \n",
      "10     Rapid swiss https://lichess.org/swiss/iQC7K9kp   \n",
      "11     Rapid swiss https://lichess.org/swiss/iQC7K9kp   \n",
      "12     Rapid swiss https://lichess.org/swiss/s48lWjcR   \n",
      "13     Rapid swiss https://lichess.org/swiss/Z6Cmixc1   \n",
      "14                                   Rated Rapid game   \n",
      "15                                   Rated Rapid game   \n",
      "16                                   Rated Rapid game   \n",
      "17  Rated Rapid tournament https://lichess.org/tou...   \n",
      "18  Rated Rapid tournament https://lichess.org/tou...   \n",
      "19                                   Rated Rapid game   \n",
      "20                                   Rated Rapid game   \n",
      "21                                   Rated Rapid game   \n",
      "22                                   Rated Rapid game   \n",
      "23                                   Rated Rapid game   \n",
      "24                                   Rated Rapid game   \n",
      "25                                   Rated Rapid game   \n",
      "26                                   Rated Rapid game   \n",
      "27                                   Rated Rapid game   \n",
      "28                                   Rated Rapid game   \n",
      "29                                   Rated Rapid game   \n",
      "30                                   Rated Rapid game   \n",
      "31                                   Rated Rapid game   \n",
      "32  Rated Rapid tournament https://lichess.org/tou...   \n",
      "33  Rated Rapid tournament https://lichess.org/tou...   \n",
      "34  Rated Rapid tournament https://lichess.org/tou...   \n",
      "35  Rated Rapid tournament https://lichess.org/tou...   \n",
      "36                                   Rated Rapid game   \n",
      "37                                   Rated Rapid game   \n",
      "38                                   Rated Rapid game   \n",
      "39                                   Rated Rapid game   \n",
      "40                                   Rated Rapid game   \n",
      "41  Rated Rapid tournament https://lichess.org/tou...   \n",
      "42  Rated Rapid tournament https://lichess.org/tou...   \n",
      "43                                   Rated Rapid game   \n",
      "44                                   Rated Rapid game   \n",
      "45                                   Rated Rapid game   \n",
      "46                                   Rated Rapid game   \n",
      "47                                   Rated Rapid game   \n",
      "48                                   Rated Rapid game   \n",
      "49                                   Rated Rapid game   \n",
      "\n",
      "                            Site                 White             Black  \\\n",
      "0   https://lichess.org/xmbG3azC               SPAN185           SMHE119   \n",
      "1   https://lichess.org/v6O8T8nD               PESK105             NB271   \n",
      "2   https://lichess.org/lafCHWDi              PORT0003       JMJHALL0010   \n",
      "3   https://lichess.org/ECy8BFok              STRI0006          PORT0024   \n",
      "4   https://lichess.org/u7zO425d               cter051          RGRE0006   \n",
      "5   https://lichess.org/fMENLHBx               CTER010        AYJHALL006   \n",
      "6   https://lichess.org/SE8waxjK            DEJHALL008           PESK104   \n",
      "7   https://lichess.org/aEaEPEUN               HGMS640           mlms708   \n",
      "8   https://lichess.org/ODEXcSXe               HGMS767           mlms623   \n",
      "9   https://lichess.org/SG7yqXkI              shen5013           HGMS618   \n",
      "10  https://lichess.org/VIN4JSdF               HGMS663           MLMS277   \n",
      "11  https://lichess.org/gnItEgKd               shen064          shen2030   \n",
      "12  https://lichess.org/JBS9P2bD              MSHS0016           kROP126   \n",
      "13  https://lichess.org/m5PO9ADO              tempo365      Logan-J-OHES   \n",
      "14  https://lichess.org/TZ4GWxcC             astrolfos        barbarik77   \n",
      "15  https://lichess.org/qEougWvm               Abdi_56      amateurpiece   \n",
      "16  https://lichess.org/WWjBUwK3                GHreis           d_o_u_g   \n",
      "17  https://lichess.org/VZdUAe64              sahana16           mrrh777   \n",
      "18  https://lichess.org/AmPqKsAQ        Brandon2011xdx  Thiago15102012xd   \n",
      "19  https://lichess.org/xQz7rhjn       rfhuedinbvhfrgh            scikan   \n",
      "20  https://lichess.org/I7XicXvo            Ortenau723   rivan_saputra86   \n",
      "21  https://lichess.org/1hpFn0vi              Rtawilah     rushabh_space   \n",
      "22  https://lichess.org/ZTbRxGlx          Maidana_Mati      pokemasterAJ   \n",
      "23  https://lichess.org/wlZbfTca        FawkingAwesome           s182471   \n",
      "24  https://lichess.org/y2owrJZC              ZeNNgiLy        lelouch_VV   \n",
      "25  https://lichess.org/EtLn0cQE          Kasparov0587             Modys   \n",
      "26  https://lichess.org/BiRrRdcq               AdamHdm        craigjbass   \n",
      "27  https://lichess.org/Q4UQAr4i            karim_tami            Maessy   \n",
      "28  https://lichess.org/nwJ20oNE           YvaindeLyon      BobbyPfizerr   \n",
      "29  https://lichess.org/M50ynrs6             Heavy_air         Mutaz2019   \n",
      "30  https://lichess.org/KoAzdonN            CrazyBorns         toxabelyi   \n",
      "31  https://lichess.org/PTNocbll            NabiHazara            Zekkek   \n",
      "32  https://lichess.org/dDkFxTXq                rocc1a      alfakebabman   \n",
      "33  https://lichess.org/c5T5pX8d     XVictorAlexanderX           rbrtrss   \n",
      "34  https://lichess.org/a8Yfb7v7         akshathnaresh       Ishan_Ankem   \n",
      "35  https://lichess.org/e9aK26eN             Shanaya24      brk06_knight   \n",
      "36  https://lichess.org/3ZBm1azp            stc-tayvva         SashaZakh   \n",
      "37  https://lichess.org/nmRWJNIu              musciana     swagus-carson   \n",
      "38  https://lichess.org/T2RmYjus           saraakhzari  LilacFinerAuthor   \n",
      "39  https://lichess.org/YNSZpeFJ              Is_Ammar           ThanhHT   \n",
      "40  https://lichess.org/Rejd2HKv         Slava_5653247       younestunes   \n",
      "41  https://lichess.org/pey8q9q5                Jorc86         kleva2310   \n",
      "42  https://lichess.org/tDbbzFsJ  floresmarluisgerardo           Bearice   \n",
      "43  https://lichess.org/qtbThFzq           CreaseyBear  Miguel_Angelruiz   \n",
      "44  https://lichess.org/OlujazMx          amokachiomer     josueperu2002   \n",
      "45  https://lichess.org/Ipo6UnX5                 Joppe     killerthinker   \n",
      "46  https://lichess.org/Rkmyket6         hamadaramadan          kartika8   \n",
      "47  https://lichess.org/i1fhXI8C             mendoza99       turancosgun   \n",
      "48  https://lichess.org/WsJismv7            devangshah  Bashar_Iraq12345   \n",
      "49  https://lichess.org/aBoD8wjE             Jimmy_x_x        adamlool99   \n",
      "\n",
      "     Result WhiteTitle BlackTitle  WhiteElo  BlackElo  WhiteRatingDiff  \\\n",
      "0       1-0       None       None       887       684              6.0   \n",
      "1       0-1       None       None       761       431            -21.0   \n",
      "2       1-0       None       None       565       863             33.0   \n",
      "3       1-0       None       None       939       404              3.0   \n",
      "4       1-0       None       None      1094       660              1.0   \n",
      "5       1-0       None       None      1453       824              0.0   \n",
      "6       1-0       None       None       848      1605             23.0   \n",
      "7       0-1       None       None       428       921             -5.0   \n",
      "8       0-1       None       None       548      1029            -11.0   \n",
      "9       0-1       None       None       711      1437             -1.0   \n",
      "10      0-1       None       None       762      1574              0.0   \n",
      "11      0-1       None       None      1681       802            -19.0   \n",
      "12      0-1       None       None      1386      2003             -1.0   \n",
      "13      1-0       None       None      2063      1219              1.0   \n",
      "14      1-0       None       None      1591      1538              5.0   \n",
      "15      1-0       None       None      1504      1532              6.0   \n",
      "16      0-1       None       None      1734      1651            -54.0   \n",
      "17      1-0       None       None      1027      1225             14.0   \n",
      "18      1-0       None       None      1131      1053             11.0   \n",
      "19      0-1       None       None      1276      1231            -85.0   \n",
      "20      1-0       None       None      1195      1077              4.0   \n",
      "21      0-1       None       None      1656      1546             -7.0   \n",
      "22      1-0       None       None      1816      1828             29.0   \n",
      "23      0-1       None       None      1375      1449             -4.0   \n",
      "24      0-1       None       None      1467      1485            -24.0   \n",
      "25      0-1       None       None      1896      1849            -10.0   \n",
      "26      0-1       None       None       757       619             -8.0   \n",
      "27      0-1       None       None      1157      1041             -7.0   \n",
      "28      1-0       None       None       580       652              7.0   \n",
      "29      0-1       None       None      1782      1861             -5.0   \n",
      "30      1-0       None       None       883       733              3.0   \n",
      "31      1-0       None       None      1700      1693              5.0   \n",
      "32      0-1       None       None      1435      1427             -5.0   \n",
      "33      0-1       None       None      1133      1106             -6.0   \n",
      "34      0-1       None       None      1282      1493             -8.0   \n",
      "35      0-1       None       None       978      1000            -11.0   \n",
      "36      1-0       None       None      1500      1405            184.0   \n",
      "37      1-0       None       None       908      1017             49.0   \n",
      "38      0-1       None       None      1358      1331            -21.0   \n",
      "39      1-0       None       None      1507      1507              7.0   \n",
      "40      1-0       None       None      1757      1732              5.0   \n",
      "41      1-0       None       None      1799      1799              8.0   \n",
      "42      1-0       None       None      1710      1696              8.0   \n",
      "43      1-0       None       None      2040      1989              5.0   \n",
      "44      1-0       None       None      1174      1125              5.0   \n",
      "45      1-0       None       None      2407      2341              4.0   \n",
      "46      1-0       None       None      1803      1814             12.0   \n",
      "47  1/2-1/2       None       None       795       830              2.0   \n",
      "48      1-0       None       None      1888      1876              6.0   \n",
      "49      0-1       None       None      1807      1754            -10.0   \n",
      "\n",
      "    BlackRatingDiff     UTCDate   UTCTime  ECO  \\\n",
      "0             -14.0  2025-03-01  00:00:00  C41   \n",
      "1              22.0  2025-03-01  00:00:00  C42   \n",
      "2             -16.0  2025-03-01  00:00:00  C40   \n",
      "3              -4.0  2025-03-01  00:00:00  C41   \n",
      "4              -3.0  2025-03-01  00:00:00  C25   \n",
      "5              -1.0  2025-03-01  00:00:00  D20   \n",
      "6             -11.0  2025-03-01  00:00:00  B18   \n",
      "7               1.0  2025-03-01  00:00:00  C44   \n",
      "8               5.0  2025-03-01  00:00:00  A00   \n",
      "9               1.0  2025-03-01  00:00:00  C47   \n",
      "10              1.0  2025-03-01  00:00:00  C23   \n",
      "11             22.0  2025-03-01  00:00:00  B01   \n",
      "12              3.0  2025-03-01  00:00:00  C54   \n",
      "13              0.0  2025-03-01  00:00:00  C44   \n",
      "14             -5.0  2025-03-01  00:00:06  D00   \n",
      "15             -6.0  2025-03-01  00:00:06  D00   \n",
      "16             11.0  2025-03-01  00:00:06  E20   \n",
      "17            -48.0  2025-03-01  00:00:06  C00   \n",
      "18             -5.0  2025-03-01  00:00:06  A40   \n",
      "19              5.0  2025-03-01  00:00:16  B30   \n",
      "20             -8.0  2025-03-01  00:00:16  C40   \n",
      "21              8.0  2025-03-01  00:00:16  C23   \n",
      "22             -5.0  2025-03-01  00:00:16  C77   \n",
      "23             55.0  2025-03-01  00:00:20  D30   \n",
      "24              8.0  2025-03-01  00:00:20  B00   \n",
      "25              6.0  2025-03-01  00:00:20  A45   \n",
      "26             14.0  2025-03-01  00:00:20  C25   \n",
      "27              8.0  2025-03-01  00:00:20  D02   \n",
      "28             -7.0  2025-03-01  00:00:02  C42   \n",
      "29              8.0  2025-03-01  00:00:02  C57   \n",
      "30             -5.0  2025-03-01  00:00:02  D31   \n",
      "31             -6.0  2025-03-01  00:00:34  B13   \n",
      "32              6.0  2025-03-01  00:00:22  C50   \n",
      "33              6.0  2025-03-01  00:00:22  B00   \n",
      "34             10.0  2025-03-01  00:00:22  B22   \n",
      "35              5.0  2025-03-01  00:00:27  C55   \n",
      "36             -3.0  2025-03-01  00:00:39  C21   \n",
      "37            -59.0  2025-03-01  00:00:25  D00   \n",
      "38             83.0  2025-03-01  00:00:25  A40   \n",
      "39             -6.0  2025-03-01  00:00:25  B40   \n",
      "40             -5.0  2025-03-01  00:00:25  B00   \n",
      "41             -5.0  2025-03-01  00:00:27  C45   \n",
      "42             -5.0  2025-03-01  00:00:27  B06   \n",
      "43             -6.0  2025-03-01  00:00:11  B50   \n",
      "44             -6.0  2025-03-01  00:00:33  C20   \n",
      "45             -6.0  2025-03-01  00:00:30  B18   \n",
      "46             -6.0  2025-03-01  00:00:30  A45   \n",
      "47             -1.0  2025-03-01  00:00:30  C40   \n",
      "48             -5.0  2025-03-01  00:00:30  D02   \n",
      "49              9.0  2025-03-01  00:00:58  A45   \n",
      "\n",
      "                                              Opening   Termination  \\\n",
      "0                                    Philidor Defense        Normal   \n",
      "1                 Petrov's Defense: Damiano Variation  Time forfeit   \n",
      "2                               King's Knight Opening        Normal   \n",
      "3                                    Philidor Defense        Normal   \n",
      "4                      Vienna Game: Max Lange Defense        Normal   \n",
      "5   Queen's Gambit Accepted: Central Variation, Al...        Normal   \n",
      "6              Caro-Kann Defense: Classical Variation  Time forfeit   \n",
      "7             King's Knight Opening: Normal Variation        Normal   \n",
      "8                                     Clemenz Opening        Normal   \n",
      "9                                   Four Knights Game        Normal   \n",
      "10                                   Bishop's Opening        Normal   \n",
      "11             Scandinavian Defense: Modern Variation  Time forfeit   \n",
      "12  Italian Game: Classical Variation, Giuoco Pian...        Normal   \n",
      "13                                        Scotch Game        Normal   \n",
      "14       Queen's Pawn Game: Accelerated London System        Normal   \n",
      "15                                  Queen's Pawn Game  Time forfeit   \n",
      "16                               Nimzo-Indian Defense        Normal   \n",
      "17                   French Defense: Knight Variation        Normal   \n",
      "18                                  Queen's Pawn Game        Normal   \n",
      "19                     Sicilian Defense: Old Sicilian        Normal   \n",
      "20                  King's Pawn Game: Damiano Defense        Normal   \n",
      "21                                   Bishop's Opening        Normal   \n",
      "22      Ruy Lopez: Morphy Defense, Tarrasch Variation  Time forfeit   \n",
      "23                            Queen's Gambit Declined        Normal   \n",
      "24             Nimzowitsch Defense: Mikenas Variation        Normal   \n",
      "25                                     Indian Defense        Normal   \n",
      "26                     Vienna Game: Anderssen Defense        Normal   \n",
      "27              Queen's Pawn Game: Chigorin Variation        Normal   \n",
      "28                Petrov's Defense: Damiano Variation        Normal   \n",
      "29  Italian Game: Two Knights Defense, Ulvestad Va...        Normal   \n",
      "30  Queen's Gambit Declined: Queen's Knight Variation        Normal   \n",
      "31              Caro-Kann Defense: Exchange Variation        Normal   \n",
      "32            Italian Game: Giuoco Pianissimo, Normal  Time forfeit   \n",
      "33                                       Pirc Defense        Normal   \n",
      "34                 Sicilian Defense: Alapin Variation  Time forfeit   \n",
      "35                  Italian Game: Two Knights Defense  Time forfeit   \n",
      "36                 Center Game: Kieseritzky Variation        Normal   \n",
      "37       Queen's Pawn Game: Accelerated London System        Normal   \n",
      "38                                  Queen's Pawn Game        Normal   \n",
      "39           Sicilian Defense: French Variation, Open  Time forfeit   \n",
      "40                                 St. George Defense        Normal   \n",
      "41                   Scotch Game: Classical Variation        Normal   \n",
      "42              Modern Defense: Two Knights Variation        Normal   \n",
      "43    Sicilian Defense: Modern Variations, Tartakower  Time forfeit   \n",
      "44              King's Pawn Game: Leonardis Variation        Normal   \n",
      "45  Caro-Kann Defense: Classical Variation, Main Line        Normal   \n",
      "46                                     Indian Defense        Normal   \n",
      "47                King's Pawn Game: McConnell Defense        Normal   \n",
      "48              Queen's Pawn Game: Chigorin Variation        Normal   \n",
      "49              Queen's Pawn Game: Chigorin Variation        Normal   \n",
      "\n",
      "   TimeControl                                           movetext  \n",
      "0        600+0  1. e4 { [%eval 0.18] [%clk 0:10:00] } 1... e5 ...  \n",
      "1        600+0  1. e4 { [%eval 0.18] [%clk 0:08:20] } 1... e5 ...  \n",
      "2        600+0  1. e4 { [%eval 0.18] [%clk 0:10:00] } 1... e5 ...  \n",
      "3        600+0  1. e4 { [%eval 0.18] [%clk 0:10:00] } 1... e5 ...  \n",
      "4        600+0  1. e4 { [%eval 0.18] [%clk 0:10:00] } 1... e5 ...  \n",
      "5        600+0  1. d4 { [%eval 0.17] [%clk 0:10:00] } 1... d5 ...  \n",
      "6        600+0  1. e4 { [%eval 0.18] [%clk 0:10:00] } 1... c6 ...  \n",
      "7        600+0  1. e4 { [%eval 0.18] [%clk 0:10:00] } 1... e5 ...  \n",
      "8        600+0  1. h3 { [%eval -0.03] [%clk 0:09:59] } 1... Nf...  \n",
      "9        600+0  1. e4 { [%eval 0.18] [%clk 0:10:00] } 1... e5 ...  \n",
      "10       600+0  1. e4 { [%eval 0.18] [%clk 0:10:00] } 1... e5 ...  \n",
      "11       600+0  1. e4 { [%eval 0.18] [%clk 0:10:00] } 1... d5 ...  \n",
      "12       600+0  1. e4 { [%eval 0.18] [%clk 0:10:00] } 1... e5 ...  \n",
      "13       600+0  1. e4 { [%eval 0.18] [%clk 0:10:00] } 1... e5 ...  \n",
      "14       600+0  1. d4 { [%eval 0.17] [%clk 0:10:00] } 1... d5 ...  \n",
      "15       600+0  1. d4 { [%eval 0.17] [%clk 0:10:00] } 1... Nf6...  \n",
      "16       600+0  1. d4 { [%eval 0.17] [%clk 0:10:00] } 1... Nf6...  \n",
      "17       600+0  1. e4 { [%eval 0.18] [%clk 0:10:00] } 1... e6 ...  \n",
      "18       600+0  1. d4 { [%eval 0.17] [%clk 0:10:00] } 1... c6 ...  \n",
      "19       600+0  1. e4 { [%eval 0.18] [%clk 0:10:00] } 1... c5 ...  \n",
      "20       600+0  1. e4 { [%eval 0.18] [%clk 0:10:00] } 1... e5 ...  \n",
      "21       600+0  1. e4 { [%eval 0.18] [%clk 0:10:00] } 1... e5 ...  \n",
      "22       600+0  1. e4 { [%eval 0.18] [%clk 0:10:00] } 1... e5 ...  \n",
      "23       600+0  1. d4 { [%eval 0.17] [%clk 0:10:00] } 1... d5 ...  \n",
      "24       600+0  1. e4 { [%eval 0.18] [%clk 0:10:00] } 1... Nc6...  \n",
      "25       600+0  1. d4 { [%eval 0.17] [%clk 0:10:00] } 1... Nf6...  \n",
      "26       600+0  1. e4 { [%eval 0.18] [%clk 0:10:00] } 1... e5 ...  \n",
      "27       600+0  1. d4 { [%eval 0.17] [%clk 0:10:00] } 1... d5 ...  \n",
      "28       600+0  1. e4 { [%eval 0.18] [%clk 0:10:00] } 1... e5 ...  \n",
      "29       600+0  1. e4 { [%eval 0.18] [%clk 0:10:00] } 1... e5 ...  \n",
      "30       600+0  1. d4 { [%eval 0.17] [%clk 0:10:00] } 1... e6 ...  \n",
      "31       600+0  1. e4 { [%eval 0.18] [%clk 0:10:00] } 1... c6 ...  \n",
      "32       600+0  1. e4 { [%eval 0.18] [%clk 0:10:00] } 1... e5 ...  \n",
      "33       600+0  1. e4 { [%eval 0.18] [%clk 0:10:00] } 1... d6 ...  \n",
      "34       600+0  1. e4 { [%eval 0.18] [%clk 0:10:00] } 1... c5 ...  \n",
      "35       600+0  1. e4 { [%eval 0.18] [%clk 0:10:00] } 1... e5 ...  \n",
      "36       600+0  1. e4 { [%eval 0.18] [%clk 0:10:00] } 1... e5 ...  \n",
      "37       600+0  1. d4 { [%eval 0.17] [%clk 0:10:00] } 1... d5 ...  \n",
      "38       600+0  1. d4 { [%eval 0.17] [%clk 0:10:00] } 1... c6 ...  \n",
      "39       600+0  1. e4 { [%eval 0.18] [%clk 0:10:00] } 1... e6 ...  \n",
      "40       600+0  1. e4 { [%eval 0.18] [%clk 0:10:00] } 1... a6 ...  \n",
      "41       600+0  1. e4 { [%eval 0.18] [%clk 0:10:00] } 1... e5 ...  \n",
      "42       600+0  1. d4 { [%eval 0.17] [%clk 0:05:00] } 1... g6 ...  \n",
      "43       600+0  1. e4 { [%eval 0.18] [%clk 0:10:00] } 1... c5 ...  \n",
      "44       600+0  1. e4 { [%eval 0.18] [%clk 0:10:00] } 1... e5 ...  \n",
      "45       600+0  1. e4 { [%eval 0.18] [%clk 0:10:00] } 1... c6 ...  \n",
      "46       600+0  1. d4 { [%eval 0.17] [%clk 0:10:00] } 1... Nf6...  \n",
      "47       600+0  1. e4 { [%eval 0.18] [%clk 0:10:00] } 1... e5 ...  \n",
      "48       600+0  1. d4 { [%eval 0.17] [%clk 0:10:00] } 1... d5 ...  \n",
      "49       600+0  1. d4 { [%eval 0.17] [%clk 0:10:00] } 1... d5 ...  \n"
     ]
    }
   ],
   "execution_count": 3
  },
  {
   "metadata": {
    "ExecuteTime": {
     "end_time": "2025-06-08T11:33:02.658513Z",
     "start_time": "2025-06-08T11:32:55.384649Z"
    }
   },
   "cell_type": "code",
   "source": "df_filtered.to_csv(\"../data/filtered_df_checkpoint.csv\", index=False)",
   "id": "67413318d442beed",
   "outputs": [],
   "execution_count": 4
  },
  {
   "metadata": {
    "ExecuteTime": {
     "end_time": "2025-06-08T15:09:11.309884Z",
     "start_time": "2025-06-08T15:08:57.827358Z"
    }
   },
   "cell_type": "code",
   "source": [
    "import pandas as pd\n",
    "import re\n",
    "\n",
    "\n",
    "#Compute Elo distribution (mean and median) for White and Black\n",
    "white_elos = df_filtered['WhiteElo']\n",
    "black_elos = df_filtered['BlackElo']\n",
    "\n",
    "elo_stats = pd.DataFrame({\n",
    "    'Color': ['White', 'Black'],\n",
    "    'Mean_Elo': [white_elos.mean(), black_elos.mean()],\n",
    "    'Median_Elo': [white_elos.median(), black_elos.median()],\n",
    "    'Max_Elo': [white_elos.max(), black_elos.max()],\n",
    "    'Min_Elo': [white_elos.min(), black_elos.min()],\n",
    "    'STD_Elo': [white_elos.std(), black_elos.std()],\n",
    "})\n",
    "print(\"=== Elo Statistics ===\")\n",
    "print(elo_stats)\n",
    "\n",
    "\n",
    "def count_full_moves(move_text: str) -> int:\n",
    "    # Find all move‐number prefixes like \"1. \", \"2. \", etc.\n",
    "    numbers = re.findall(r'\\b(\\d+)\\.\\s', move_text)\n",
    "    if not numbers:\n",
    "        return 0\n",
    "    return max(map(int, numbers))\n",
    "\n",
    "# Apply to every row\n",
    "df_filtered['parsed_num_moves'] = df_filtered['movetext'].apply(count_full_moves)\n",
    "\n",
    "# statistics for game length\n",
    "move_length_stats = df_filtered['parsed_num_moves'].describe()\n",
    "print(\"\\n=== Game‐Length Statistics (in full‐move counts) ===\")\n",
    "print(move_length_stats)\n"
   ],
   "id": "9ad599ff377ee493",
   "outputs": [
    {
     "name": "stdout",
     "output_type": "stream",
     "text": [
      "=== Elo Statistics ===\n",
      "   Color     Mean_Elo  Median_Elo  Max_Elo  Min_Elo     STD_Elo\n",
      "0  White  1536.356004      1533.0     3119      400  390.929736\n",
      "1  Black  1536.518777      1537.0     3095      400  390.987127\n",
      "\n",
      "=== Game‐Length Statistics (in full‐move counts) ===\n",
      "count    232177.000000\n",
      "mean         33.281458\n",
      "std          14.889076\n",
      "min           4.000000\n",
      "25%          23.000000\n",
      "50%          30.000000\n",
      "75%          41.000000\n",
      "max         227.000000\n",
      "Name: parsed_num_moves, dtype: float64\n"
     ]
    }
   ],
   "execution_count": 12
  },
  {
   "metadata": {
    "ExecuteTime": {
     "end_time": "2025-06-08T11:33:53.949450Z",
     "start_time": "2025-06-08T11:33:53.478636Z"
    }
   },
   "cell_type": "code",
   "source": [
    "import matplotlib.pyplot as plt\n",
    "\n",
    "# Extract Elo ratings\n",
    "white_elos = df_filtered[\"WhiteElo\"]\n",
    "black_elos = df_filtered[\"BlackElo\"]\n",
    "\n",
    "#  White Elo Distribution\n",
    "plt.figure(figsize=(8, 5))\n",
    "plt.hist(white_elos, bins=30, edgecolor=\"black\")\n",
    "plt.title(\"White Elo Distribution\")\n",
    "plt.xlabel(\"Elo Rating\")\n",
    "plt.ylabel(\"Count\")\n",
    "plt.grid(alpha=0.3)\n",
    "plt.tight_layout()\n",
    "plt.show()\n",
    "\n",
    "# Black Elo Distribution\n",
    "plt.figure(figsize=(8, 5))\n",
    "plt.hist(black_elos, bins=30, edgecolor=\"black\")\n",
    "plt.title(\"Black Elo Distribution\")\n",
    "plt.xlabel(\"Elo Rating\")\n",
    "plt.ylabel(\"Count\")\n",
    "plt.grid(alpha=0.3)\n",
    "plt.tight_layout()\n",
    "plt.show()\n"
   ],
   "id": "ad5381189bec2c38",
   "outputs": [
    {
     "data": {
      "text/plain": [
       "<Figure size 800x500 with 1 Axes>"
      ],
      "image/png": "[encoded data removed]"
     },
     "metadata": {},
     "output_type": "display_data"
    },
    {
     "data": {
      "text/plain": [
       "<Figure size 800x500 with 1 Axes>"
      ],
      "image/png": "[encoded data removed]"
     },
     "metadata": {},
     "output_type": "display_data"
    }
   ],
   "execution_count": 6
  },
  {
   "metadata": {
    "ExecuteTime": {
     "end_time": "2025-06-08T15:12:28.630538Z",
     "start_time": "2025-06-08T15:09:26.409990Z"
    }
   },
   "cell_type": "code",
   "source": [
    "import pandas as pd\n",
    "import re\n",
    "\n",
    "def parse_moves_and_evals_with_delta(move_text: str) -> pd.DataFrame:\n",
    "    \"\"\"\n",
    "    Parse a Lichess move_text string and extract every move (both White and Black)\n",
    "    along with its evaluation and the change in evaluation from the previous ply.\n",
    "    Returns a DataFrame with columns:\n",
    "      - move_number (int)\n",
    "      - color ('white' or 'black')\n",
    "      - move (str, SAN)\n",
    "      - eval (float or str for mate scores)\n",
    "      - delta_eval (float, difference from previous eval; NaN for first ply)\n",
    "    \"\"\"\n",
    "\n",
    "    # Patterns for capturing White and Black moves with their evaluations\n",
    "    white_pattern = re.compile(r'\\b(\\d+)\\.\\s*([^\\s\\{]+)\\s*\\{\\s*\\[%eval\\s*([^\\]\\s]+)')\n",
    "    black_pattern = re.compile(r'\\b(\\d+)\\.\\.\\.\\s*([^\\s\\{]+)\\s*\\{\\s*\\[%eval\\s*([^\\]\\s]+)')\n",
    "\n",
    "    records = []\n",
    "\n",
    "    # Extract all White moves\n",
    "    for w_match in white_pattern.finditer(move_text):\n",
    "        move_num = int(w_match.group(1))\n",
    "        move_san = w_match.group(2)\n",
    "        eval_str = w_match.group(3)\n",
    "        try:\n",
    "            eval_val = float(eval_str)\n",
    "        except ValueError:\n",
    "            if \"-\" in eval_str:\n",
    "                eval_val = -1000\n",
    "            else:\n",
    "               eval_val = 1000\n",
    "        records.append({\n",
    "            'move_number': move_num,\n",
    "            'color': 'white',\n",
    "            'move': move_san,\n",
    "            'eval': eval_val\n",
    "        })\n",
    "\n",
    "    # Extract all Black moves\n",
    "    for b_match in black_pattern.finditer(move_text):\n",
    "        move_num = int(b_match.group(1))\n",
    "        move_san = b_match.group(2)\n",
    "        eval_str = b_match.group(3)\n",
    "        try:\n",
    "            eval_val = float(eval_str)\n",
    "        except ValueError:\n",
    "            if \"-\" in eval_str:\n",
    "               eval_val = -1000\n",
    "            else:\n",
    "               eval_val = 1000\n",
    "        records.append({\n",
    "            'move_number': move_num,\n",
    "            'color': 'black',\n",
    "            'move': move_san,\n",
    "            'eval': eval_val\n",
    "        })\n",
    "\n",
    "    # Build and sort DataFrame: ensure White before Black\n",
    "    df_moves = pd.DataFrame(records)\n",
    "    df_moves['sort_key'] = df_moves['move_number'] * 2 + df_moves['color'].map({'white': 0, 'black': 1})\n",
    "    df_moves = df_moves.sort_values('sort_key').drop(columns='sort_key').reset_index(drop=True)\n",
    "\n",
    "    # Compute delta_eval: difference between current eval and previous ply eval\n",
    "    df_moves['delta_eval'] = df_moves['eval'].diff()\n",
    "    df_moves.loc[df_moves.index[0], 'delta_eval'] = 0.0\n",
    "\n",
    "    return df_moves\n",
    "\n",
    "df_filtered['moves_evals'] = df_filtered['movetext'].apply(parse_moves_and_evals_with_delta)\n",
    "# View the first game’s parsed moves, evals, and deltas\n",
    "print(df_filtered.loc[0, 'moves_evals'])\n"
   ],
   "id": "9413dd94aa458a7f",
   "outputs": [
    {
     "name": "stdout",
     "output_type": "stream",
     "text": [
      "    move_number  color    move     eval  delta_eval\n",
      "0             1  white      e4     0.18        0.00\n",
      "1             1  black      e5     0.21        0.03\n",
      "2             2  white     Nf3     0.13       -0.08\n",
      "3             2  black      d6     0.48        0.35\n",
      "4             3  white     Bc4     0.25       -0.23\n",
      "5             3  black     f6?     1.34        1.09\n",
      "6             4  white      d3     0.97       -0.37\n",
      "7             4  black      c5     1.35        0.38\n",
      "8             5  white     Be3     0.97       -0.38\n",
      "9             5  black    b6??     5.48        4.51\n",
      "10            6  white   O-O??     1.84       -3.64\n",
      "11            6  black   Be7??     5.42        3.58\n",
      "12            7  white    Nc3?     2.68       -2.74\n",
      "13            7  black   Nh6??     6.27        3.59\n",
      "14            8  white   Nd5??     3.20       -3.07\n",
      "15            8  black    Bf8?     5.42        2.22\n",
      "16            9  white    Nc3?     4.31       -1.11\n",
      "17            9  black     b5?     5.96        1.65\n",
      "18           10  white   Nxb5?     4.57       -1.39\n",
      "19           10  black     d5?     6.02        1.45\n",
      "20           11  white    Bxd5     6.18        0.16\n",
      "21           11  black     Nd7     6.69        0.51\n",
      "22           12  white    Bxa8     6.90        0.21\n",
      "23           12  black     Ba6     7.12        0.22\n",
      "24           13  white  Nxa7??     3.68       -3.44\n",
      "25           13  black    Qxa8     3.64       -0.04\n",
      "26           14  white   Nc6?!     2.81       -0.83\n",
      "27           14  black    Nb6?     5.24        2.43\n",
      "28           15  white     Na5     4.66       -0.58\n",
      "29           15  black     Bb5     5.38        0.72\n",
      "30           16  white     Nb3     5.20       -0.18\n",
      "31           16  black      c4     5.77        0.57\n",
      "32           17  white     Nc5     5.44       -0.33\n",
      "33           17  black     Nd5     6.92        1.48\n",
      "34           18  white    exd5     7.04        0.12\n",
      "35           18  black      g5     7.55        0.51\n",
      "36           19  white     Ne6     7.25       -0.30\n",
      "37           19  black     Bc5     9.82        2.57\n",
      "38           20  white    Nc7+     9.76       -0.06\n",
      "39           20  black     Kf7     9.90        0.14\n",
      "40           21  white    Nxa8     9.85       -0.05\n",
      "41           21  black    Rxa8    10.25        0.40\n",
      "42           22  white    Bxc5    10.19       -0.06\n",
      "43           22  black     Nf5    10.16       -0.03\n",
      "44           23  white    dxc4    10.16        0.00\n",
      "45           23  black    Bxc4    10.54        0.38\n",
      "46           24  white      b3     9.77       -0.77\n",
      "47           24  black    Bxb3    10.79        1.02\n",
      "48           25  white    cxb3    10.75       -0.04\n",
      "49           25  black      e4    11.34        0.59\n",
      "50           26  white     Nd2    11.19       -0.15\n",
      "51           26  black     Rb8    11.76        0.57\n",
      "52           27  white    Nxe4    12.04        0.28\n",
      "53           27  black    g4?!  1000.00      987.96\n",
      "54           28  white   Bd6?!    11.44     -988.56\n",
      "55           28  black     Ra8    11.12       -0.32\n",
      "56           29  white     Bf4    10.90       -0.22\n",
      "57           29  black   Nd6?!  1000.00      989.10\n",
      "58           30  white   Nxd6+  1000.00        0.00\n",
      "59           30  black     Kg6  1000.00        0.00\n"
     ]
    }
   ],
   "execution_count": 13
  },
  {
   "metadata": {
    "ExecuteTime": {
     "end_time": "2025-06-08T11:42:47.883782Z",
     "start_time": "2025-06-08T11:38:14.798417Z"
    }
   },
   "cell_type": "code",
   "source": "#df_filtered.to_csv(\"../data/filtered_df_with_move_evals.csv\", index=False)",
   "id": "cbae2acf1a15822a",
   "outputs": [],
   "execution_count": 8
  },
  {
   "metadata": {
    "ExecuteTime": {
     "end_time": "2025-06-08T15:07:22.509880Z",
     "start_time": "2025-06-08T15:07:15.049519Z"
    }
   },
   "cell_type": "code",
   "source": "#df_filtered = pd.read_csv(\"../data/filtered_df_with_move_evals.csv\")",
   "id": "e0870c22626ef1ca",
   "outputs": [],
   "execution_count": 7
  },
  {
   "metadata": {
    "ExecuteTime": {
     "end_time": "2025-06-08T15:14:12.434429Z",
     "start_time": "2025-06-08T15:12:35.364295Z"
    }
   },
   "cell_type": "code",
   "source": [
    "import numpy as np\n",
    "\n",
    "def _diffs_list(evals_cp, pov_color, mate_threshold=900):\n",
    "    sign = 1 if pov_color == 'white' else -1\n",
    "    diffs = []\n",
    "    for s1, s2 in zip(evals_cp[0::2], evals_cp[1::2]):\n",
    "        if s1 is None or s2 is None:\n",
    "            continue\n",
    "        # skip “mate” as it skews data to much\n",
    "        # TODO include missed mate as feature\n",
    "        if abs(s1) >= mate_threshold or abs(s2) >= mate_threshold:\n",
    "            continue\n",
    "        d = (s2 - s1) * sign\n",
    "        diffs.append(max(0, d))\n",
    "    return diffs\n",
    "\n",
    "\n",
    "def _accuracy_cp(evals_cp, pov_color):\n",
    "    diffs = _diffs_list(evals_cp, pov_color)\n",
    "    if not diffs:\n",
    "        return None\n",
    "    return int(round(np.mean(diffs)))\n",
    "\n",
    "def compute_accuracy_cp_from_moves_evals(moves_evals):\n",
    "    \"\"\"\n",
    "    Given moves_evals as a list of dicts:\n",
    "      [{'move_number':1,'color':'white','move':'e4','eval':0.18,'delta_eval':0.00}, … ]\n",
    "    returns a tuple (white_accuracy_cp, black_accuracy_cp).\n",
    "    \"\"\"\n",
    "    # turn into DataFrame\n",
    "    g = pd.DataFrame(moves_evals)\n",
    "    # sort by move_number, with white before black\n",
    "    g['color_ord'] = (g['color'] == 'black').astype(int)\n",
    "    g = g.sort_values(['move_number','color_ord'])\n",
    "    # convert eval (in pawns) → centipawns ints, None if missing\n",
    "    evals_cp = [\n",
    "        int(round(v * 100)) if pd.notna(v) else None\n",
    "        for v in g['eval']\n",
    "    ]\n",
    "    w_acc = _accuracy_cp(evals_cp, 'white')\n",
    "    b_acc = _accuracy_cp(evals_cp, 'black')\n",
    "    return pd.Series({\n",
    "        'white_accuracy_cp': w_acc,\n",
    "        'black_accuracy_cp': b_acc\n",
    "    })\n",
    "\n",
    "df_filtered[['white_accuracy_cp', 'black_accuracy_cp']] = (\n",
    "    df_filtered['moves_evals']\n",
    "      .apply(compute_accuracy_cp_from_moves_evals)\n",
    ")\n",
    "\n",
    "# Inspect\n",
    "print(df_filtered[['white_accuracy_cp','black_accuracy_cp']])\n"
   ],
   "id": "6d65ed9f1f2fede5",
   "outputs": [
    {
     "name": "stdout",
     "output_type": "stream",
     "text": [
      "        white_accuracy_cp  black_accuracy_cp\n",
      "0                     140                  0\n",
      "1                      85                  0\n",
      "2                     222                 11\n",
      "3                     103                  1\n",
      "4                      89                  3\n",
      "...                   ...                ...\n",
      "232172                 89                  3\n",
      "232173                101                  2\n",
      "232174                 86                  3\n",
      "232175                 75                  3\n",
      "232176                 16                  6\n",
      "\n",
      "[232177 rows x 2 columns]\n"
     ]
    }
   ],
   "execution_count": 14
  },
  {
   "metadata": {
    "ExecuteTime": {
     "end_time": "2025-06-08T15:29:42.037017Z",
     "start_time": "2025-06-08T15:14:24.720739Z"
    }
   },
   "cell_type": "code",
   "source": [
    "import re\n",
    "import pandas as pd\n",
    "import chess\n",
    "import chess.pgn\n",
    "\n",
    "\n",
    "def clean_san(san: str) -> str:\n",
    "    \"\"\"\n",
    "    Strip move annotations (?, !, +, #) from SAN so python‐chess can parse it.\n",
    "    \"\"\"\n",
    "    return re.sub(r\"[?!+#]+$\", \"\", san)\n",
    "\n",
    "\n",
    "def count_pawn_structure(board: chess.Board, color: bool):\n",
    "    \"\"\"\n",
    "    Count isolated, doubled, and tripled pawns for the given color on 'board'.\n",
    "    Returns a tuple (isolated_count, doubled_count, tripled_count).\n",
    "    \"\"\"\n",
    "    pawns = list(board.pieces(chess.PAWN, color))\n",
    "    files = {}\n",
    "    for sq in pawns:\n",
    "        f = chess.square_file(sq)\n",
    "        files.setdefault(f, 0)\n",
    "        files[f] += 1\n",
    "\n",
    "    isolated = 0\n",
    "    doubled = 0\n",
    "    tripled = 0\n",
    "    for f, cnt in files.items():\n",
    "        if cnt == 1:\n",
    "            # No neighbor pawn on f–1 or f+1\n",
    "            if (f - 1 not in files) and (f + 1 not in files):\n",
    "                isolated += 1\n",
    "        if cnt == 2:\n",
    "            doubled += 1\n",
    "        if cnt >= 3:\n",
    "            tripled += 1\n",
    "    return isolated, doubled, tripled\n",
    "\n",
    "\n",
    "def count_center_control(board: chess.Board, color: bool):\n",
    "    \"\"\"\n",
    "    Count how many minor pieces (knights or bishops) of 'color'\n",
    "    attack or defend any of the four center squares {d4,d5,e4,e5}\n",
    "    in the given board position.\n",
    "    \"\"\"\n",
    "    center_squares = [chess.D4, chess.D5, chess.E4, chess.E5]\n",
    "    total = 0\n",
    "    for sq in center_squares:\n",
    "        # attackers of sq by 'color'\n",
    "        for attacker in board.attackers(color, sq):\n",
    "            p = board.piece_at(attacker)\n",
    "            if p.piece_type in (chess.KNIGHT, chess.BISHOP):\n",
    "                total += 1\n",
    "        # defenders are just attackers of sq by the opposite color\n",
    "        for defender in board.attackers(not color, sq):\n",
    "            p = board.piece_at(defender)\n",
    "            if p.piece_type in (chess.KNIGHT, chess.BISHOP):\n",
    "                total += 1\n",
    "    return total\n",
    "\n",
    "\n",
    "def extract_game_features(moves_df: pd.DataFrame) -> dict:\n",
    "    \"\"\"\n",
    "    Given a DataFrame 'moves_df' with columns:\n",
    "        [\"move_number\", \"color\", \"move\", \"eval\", \"delta_eval\"],\n",
    "    compute features for White and Black, returning a nested dict.\n",
    "\n",
    "    Replaces any None values with 0 so downstream regressors see only numeric entries.\n",
    "    \"\"\"\n",
    "    # 1) Determine total full moves\n",
    "    san_list = []\n",
    "    for _, row in moves_df.iterrows():\n",
    "        san = clean_san(row[\"move\"])\n",
    "        san_list.append(san)\n",
    "    total_half_moves = len(san_list)\n",
    "    total_full_moves = (total_half_moves + 1) // 2\n",
    "\n",
    "    def half_idx_for_frac(f: float) -> int:\n",
    "        fm = int(f * total_full_moves)\n",
    "        hi = fm * 2\n",
    "        return min(hi, total_half_moves)\n",
    "\n",
    "    quartile_indices = {\n",
    "        \"25\": half_idx_for_frac(0.25),\n",
    "        \"50\": half_idx_for_frac(0.50),\n",
    "        \"75\": half_idx_for_frac(0.75),\n",
    "        \"100\": total_half_moves\n",
    "    }\n",
    "\n",
    "    # Initialize board and trackers\n",
    "    board = chess.Board()\n",
    "    castle_done = {\"white\": False, \"black\": False}\n",
    "    moves_before_castle = {\"white\": total_full_moves, \"black\": total_full_moves}\n",
    "\n",
    "    development_times = {\n",
    "        \"white\": {\"knights\": [], \"bishops\": [], \"rq\": []},\n",
    "        \"black\": {\"knights\": [], \"bishops\": [], \"rq\": []}\n",
    "    }\n",
    "\n",
    "    pawn_counts = {\n",
    "        \"white\": {q: (0, 0, 0) for q in quartile_indices},\n",
    "        \"black\": {q: (0, 0, 0) for q in quartile_indices}\n",
    "    }\n",
    "\n",
    "    legal_diff = {q: 0 for q in quartile_indices}\n",
    "\n",
    "    center_control = {\"white\": 0, \"black\": 0}\n",
    "\n",
    "    initial_map = {\n",
    "        sq: (board.piece_at(sq).color, board.piece_at(sq).piece_type, sq)\n",
    "        for sq in board.piece_map()\n",
    "    }\n",
    "    current_to_initial = {sq: info for sq, info in initial_map.items()}\n",
    "    moved_pieces_after10 = {\"white\": set(), \"black\": set()}\n",
    "\n",
    "    blunder_moves = {\"white\": [], \"black\": []}\n",
    "    mistake_moves = {\"white\": [], \"black\": []}\n",
    "\n",
    "    win_op = {\"white\": None, \"black\": None}\n",
    "    opp_win_op = {\"white\": None, \"black\": None}\n",
    "\n",
    "    knight_edge_first = {\"white\": None, \"black\": None}\n",
    "    knight_edge_count = {\"white\": 0, \"black\": 0}\n",
    "    rook_7th_first = {\"white\": None, \"black\": None}\n",
    "\n",
    "    # Iterate through half-moves\n",
    "    for i, row in moves_df.iterrows():\n",
    "        half_idx = i + 1\n",
    "        color = row[\"color\"]\n",
    "        move_no = row[\"move_number\"]\n",
    "        san = clean_san(row[\"move\"])\n",
    "        d_eval = row[\"delta_eval\"]\n",
    "        e = row[\"eval\"]\n",
    "\n",
    "        # Count blunders and mistakes\n",
    "        if color == \"white\":\n",
    "            if d_eval is not None and d_eval < -2.0:\n",
    "                blunder_moves[\"white\"].append(move_no)\n",
    "            if d_eval is not None and d_eval < -0.5:\n",
    "                mistake_moves[\"white\"].append(move_no)\n",
    "            if win_op[\"white\"] is None and e is not None and e >= 3.0:\n",
    "                win_op[\"white\"] = move_no\n",
    "            if opp_win_op[\"white\"] is None and e is not None and e <= -3.0:\n",
    "                opp_win_op[\"white\"] = move_no\n",
    "        else:\n",
    "            if d_eval is not None and d_eval > 2.0:\n",
    "                blunder_moves[\"black\"].append(move_no)\n",
    "            if d_eval is not None and d_eval > 0.5:\n",
    "                mistake_moves[\"black\"].append(move_no)\n",
    "            if win_op[\"black\"] is None and e is not None and e <= -3.0:\n",
    "                win_op[\"black\"] = move_no\n",
    "            if opp_win_op[\"black\"] is None and e is not None and e >= 3.0:\n",
    "                opp_win_op[\"black\"] = move_no\n",
    "\n",
    "        # parse san\n",
    "        try:\n",
    "            mv = board.parse_san(san)\n",
    "        except Exception:\n",
    "            san2 = re.sub(r\"[?!+#]+$\", \"\", row[\"move\"])\n",
    "            mv = board.parse_san(san2)\n",
    "\n",
    "        # Moves before castling\n",
    "        if not castle_done[color] and san.startswith(\"O-O\"):\n",
    "            castle_done[color] = True\n",
    "            moves_before_castle[color] = move_no\n",
    "\n",
    "        # Development\n",
    "        piece = board.piece_at(mv.from_square)\n",
    "        if piece:\n",
    "            cstr = \"white\" if piece.color == chess.WHITE else \"black\"\n",
    "            ptype = piece.piece_type\n",
    "            if ptype == chess.KNIGHT:\n",
    "                development_times[cstr][\"knights\"].append(move_no)\n",
    "            if ptype == chess.BISHOP:\n",
    "                development_times[cstr][\"bishops\"].append(move_no)\n",
    "            if ptype in (chess.ROOK, chess.QUEEN):\n",
    "                development_times[cstr][\"rq\"].append(move_no)\n",
    "\n",
    "        # Knight on edge & rook to 7th\n",
    "        if piece and piece.piece_type == chess.KNIGHT:\n",
    "            to_file = chess.square_file(mv.to_square)\n",
    "            if to_file in (0, 7):\n",
    "                if knight_edge_first[color] is None:\n",
    "                    knight_edge_first[color] = move_no\n",
    "                knight_edge_count[color] += 1\n",
    "\n",
    "        if piece and piece.piece_type == chess.ROOK:\n",
    "            to_rank = chess.square_rank(mv.to_square)\n",
    "            if color == \"white\" and to_rank == 6 and rook_7th_first[\"white\"] is None:\n",
    "                rook_7th_first[\"white\"] = move_no\n",
    "            if color == \"black\" and to_rank == 1 and rook_7th_first[\"black\"] is None:\n",
    "                rook_7th_first[\"black\"] = move_no\n",
    "\n",
    "        # Unique pieces moved after 10 full moves\n",
    "        if piece:\n",
    "            info = current_to_initial.get(mv.from_square)\n",
    "            if info:\n",
    "                cstr = \"white\" if piece.color == chess.WHITE else \"black\"\n",
    "                moved_pieces_after10[cstr].add(info[2])\n",
    "\n",
    "        board.push(mv)\n",
    "\n",
    "        # Pawn structure & legal-move diff at quartiles\n",
    "        for label, idx in quartile_indices.items():\n",
    "            if half_idx == idx:\n",
    "                w_iso, w_dbl, w_tri = count_pawn_structure(board, chess.WHITE)\n",
    "                b_iso, b_dbl, b_tri = count_pawn_structure(board, chess.BLACK)\n",
    "                pawn_counts[\"white\"][label] = (w_iso, w_dbl, w_tri)\n",
    "                pawn_counts[\"black\"][label] = (b_iso, b_dbl, b_tri)\n",
    "\n",
    "                turn_saved = board.turn\n",
    "                board.turn = chess.WHITE\n",
    "                w_moves = board.legal_moves.count()\n",
    "                board.turn = chess.BLACK\n",
    "                b_moves = board.legal_moves.count()\n",
    "                board.turn = turn_saved\n",
    "                legal_diff[label] = w_moves - b_moves\n",
    "\n",
    "    # Development before queen/rooks\n",
    "    dev_before = {\"white\": 0, \"black\": 0}\n",
    "    for color in (\"white\", \"black\"):\n",
    "        knights = development_times[color][\"knights\"]\n",
    "        bishops = development_times[color][\"bishops\"]\n",
    "        rq = development_times[color][\"rq\"]\n",
    "        if knights and bishops and rq:\n",
    "            if max(knights) < min(rq) and max(bishops) < min(rq):\n",
    "                dev_before[color] = 1\n",
    "\n",
    "    # Center control after 5 full moves (half-move idx = 10)\n",
    "    board5 = chess.Board()\n",
    "    for i, row in moves_df.iterrows():\n",
    "        if i == 10:\n",
    "            break\n",
    "        san = clean_san(row[\"move\"])\n",
    "        mv = board5.parse_san(san)\n",
    "        board5.push(mv)\n",
    "    center_control[\"white\"] = count_center_control(board5, chess.WHITE)\n",
    "    center_control[\"black\"] = count_center_control(board5, chess.BLACK)\n",
    "\n",
    "    # Unique pieces moved after 10 full moves (half-move idx = 20)\n",
    "    board10 = chess.Board()\n",
    "    moved_after10 = {\"white\": set(), \"black\": set()}\n",
    "    for i, row in moves_df.iterrows():\n",
    "        san = clean_san(row[\"move\"])\n",
    "        mv = board10.parse_san(san)\n",
    "        piece = board10.piece_at(mv.from_square)\n",
    "        if piece:\n",
    "            cstr = \"white\" if piece.color == chess.WHITE else \"black\"\n",
    "            info = {sq: info for sq, info in current_to_initial.items() if info[0] == piece.color}\n",
    "            initial_sq = None\n",
    "            for sq, inf in info.items():\n",
    "                if inf[1] == piece.piece_type and sq == mv.from_square:\n",
    "                    initial_sq = inf[2]\n",
    "                    break\n",
    "            if initial_sq:\n",
    "                moved_after10[cstr].add(initial_sq)\n",
    "        board10.push(mv)\n",
    "        if i == 19:\n",
    "            break\n",
    "\n",
    "    unique_after10 = {\n",
    "        \"white\": len(moved_after10[\"white\"]),\n",
    "        \"black\": len(moved_after10[\"black\"])\n",
    "    }\n",
    "\n",
    "    # First blunder/mistake and counts\n",
    "    first_blunder = {\n",
    "        \"white\": blunder_moves[\"white\"][0] if blunder_moves[\"white\"] else None,\n",
    "        \"black\": blunder_moves[\"black\"][0] if blunder_moves[\"black\"] else None\n",
    "    }\n",
    "    blunder_counts = {\n",
    "        \"white\": len(blunder_moves[\"white\"]),\n",
    "        \"black\": len(blunder_moves[\"black\"])\n",
    "    }\n",
    "    first_mistake = {\n",
    "        \"white\": mistake_moves[\"white\"][0] if mistake_moves[\"white\"] else None,\n",
    "        \"black\": mistake_moves[\"black\"][0] if mistake_moves[\"black\"] else None\n",
    "    }\n",
    "    mistake_counts = {\n",
    "        \"white\": len(mistake_moves[\"white\"]),\n",
    "        \"black\": len(mistake_moves[\"black\"])\n",
    "    }\n",
    "\n",
    "    # Moves before castling for colors that never castled\n",
    "    for c in (\"white\", \"black\"):\n",
    "        if not castle_done[c]:\n",
    "            moves_before_castle[c] = total_full_moves\n",
    "\n",
    "    # Replace all None with 0 in these nested dicts\n",
    "    for d in (first_blunder, first_mistake, win_op, opp_win_op, knight_edge_first, rook_7th_first):\n",
    "        for color in (\"white\", \"black\"):\n",
    "            if d[color] is None:\n",
    "                d[color] = 0\n",
    "\n",
    "    # Gather everything into a single dict\n",
    "    features = {\n",
    "        \"total_full_moves\": total_full_moves,\n",
    "        \"moves_before_castle\": moves_before_castle,\n",
    "        \"pawn_counts_at\": pawn_counts,               # nested by color → quartile → (iso,dbl,tri)\n",
    "        \"legal_move_diff_at\": legal_diff,            # by quartile → (White legal − Black legal)\n",
    "        \"development_before\": dev_before,            # 1 or 0\n",
    "        \"center_control_after_5\": center_control,    # minor‐piece control counts\n",
    "        \"unique_pieces_after_10\": unique_after10,    # count of distinct initial squares moved\n",
    "        \"blunder_counts\": blunder_counts,            # total # of blunders\n",
    "        \"first_blunder_move\": first_blunder,         # full‐move index\n",
    "        \"mistake_counts\": mistake_counts,            # total # of mistakes\n",
    "        \"first_mistake_move\": first_mistake,         # full‐move index\n",
    "        \"first_win_opportunity\": win_op,             # full‐move for win opportunity\n",
    "        \"first_opp_win_opportunity\": opp_win_op,     # full‐move for opponent win opp\n",
    "        \"knight_edge_first\": knight_edge_first,      # full‐move of first knight on edge\n",
    "        \"knight_edge_count\": knight_edge_count,      # total times knight moved to edge\n",
    "        \"rook_7th_first\": rook_7th_first             # full‐move of first rook→7th/2nd\n",
    "    }\n",
    "\n",
    "    return features\n",
    "\n",
    "# apply feature extraction to all games\n",
    "features_list = df_filtered[\"moves_evals\"].apply(extract_game_features)\n",
    "\n",
    "features_df = pd.DataFrame(features_list.tolist())\n",
    "\n",
    "import pprint\n",
    "pprint.pprint(features_df)\n"
   ],
   "id": "1192fd36177773bb",
   "outputs": [
    {
     "name": "stdout",
     "output_type": "stream",
     "text": [
      "        total_full_moves         moves_before_castle  \\\n",
      "0                     30   {'white': 6, 'black': 30}   \n",
      "1                     35  {'white': 14, 'black': 35}   \n",
      "2                     20  {'white': 20, 'black': 20}   \n",
      "3                     40  {'white': 14, 'black': 40}   \n",
      "4                     32  {'white': 13, 'black': 32}   \n",
      "...                  ...                         ...   \n",
      "232172                28  {'white': 10, 'black': 28}   \n",
      "232173                18  {'white': 18, 'black': 14}   \n",
      "232174                35  {'white': 35, 'black': 17}   \n",
      "232175                27  {'white': 27, 'black': 27}   \n",
      "232176                39  {'white': 39, 'black': 39}   \n",
      "\n",
      "                                           pawn_counts_at  \\\n",
      "0       {'white': {'25': (0, 0, 0), '50': (0, 0, 0), '...   \n",
      "1       {'white': {'25': (0, 0, 0), '50': (0, 0, 0), '...   \n",
      "2       {'white': {'25': (0, 0, 0), '50': (1, 1, 0), '...   \n",
      "3       {'white': {'25': (0, 0, 0), '50': (0, 0, 0), '...   \n",
      "4       {'white': {'25': (0, 0, 0), '50': (0, 0, 0), '...   \n",
      "...                                                   ...   \n",
      "232172  {'white': {'25': (0, 0, 0), '50': (2, 0, 0), '...   \n",
      "232173  {'white': {'25': (0, 0, 0), '50': (0, 0, 0), '...   \n",
      "232174  {'white': {'25': (0, 0, 0), '50': (0, 0, 0), '...   \n",
      "232175  {'white': {'25': (0, 0, 0), '50': (0, 0, 0), '...   \n",
      "232176  {'white': {'25': (0, 0, 0), '50': (1, 0, 0), '...   \n",
      "\n",
      "                                legal_move_diff_at        development_before  \\\n",
      "0          {'25': 15, '50': 1, '75': 0, '100': 17}  {'white': 0, 'black': 0}   \n",
      "1        {'25': 0, '50': -10, '75': 13, '100': 16}  {'white': 0, 'black': 0}   \n",
      "2          {'25': 3, '50': 1, '75': 10, '100': 18}  {'white': 0, 'black': 0}   \n",
      "3         {'25': 3, '50': 31, '75': 20, '100': 46}  {'white': 0, 'black': 0}   \n",
      "4        {'25': 11, '50': 15, '75': 11, '100': 23}  {'white': 0, 'black': 0}   \n",
      "...                                            ...                       ...   \n",
      "232172     {'25': 4, '50': 0, '75': 24, '100': 37}  {'white': 0, 'black': 0}   \n",
      "232173    {'25': 5, '50': 1, '75': -41, '100': 30}  {'white': 0, 'black': 0}   \n",
      "232174    {'25': -4, '50': 4, '75': -3, '100': 36}  {'white': 0, 'black': 0}   \n",
      "232175      {'25': 7, '50': 11, '75': 0, '100': 5}  {'white': 0, 'black': 0}   \n",
      "232176  {'25': -3, '50': -13, '75': -6, '100': -3}  {'white': 0, 'black': 0}   \n",
      "\n",
      "          center_control_after_5    unique_pieces_after_10  \\\n",
      "0       {'white': 4, 'black': 4}  {'white': 7, 'black': 7}   \n",
      "1       {'white': 2, 'black': 2}  {'white': 5, 'black': 5}   \n",
      "2       {'white': 1, 'black': 1}  {'white': 4, 'black': 7}   \n",
      "3       {'white': 6, 'black': 6}  {'white': 7, 'black': 7}   \n",
      "4       {'white': 6, 'black': 6}  {'white': 6, 'black': 7}   \n",
      "...                          ...                       ...   \n",
      "232172  {'white': 4, 'black': 4}  {'white': 8, 'black': 7}   \n",
      "232173  {'white': 3, 'black': 3}  {'white': 7, 'black': 7}   \n",
      "232174  {'white': 4, 'black': 4}  {'white': 6, 'black': 6}   \n",
      "232175  {'white': 3, 'black': 3}  {'white': 7, 'black': 6}   \n",
      "232176  {'white': 1, 'black': 1}  {'white': 7, 'black': 7}   \n",
      "\n",
      "                  blunder_counts          first_blunder_move  \\\n",
      "0       {'white': 5, 'black': 8}    {'white': 6, 'black': 5}   \n",
      "1       {'white': 4, 'black': 6}    {'white': 7, 'black': 7}   \n",
      "2       {'white': 5, 'black': 5}    {'white': 3, 'black': 2}   \n",
      "3       {'white': 2, 'black': 6}   {'white': 14, 'black': 7}   \n",
      "4       {'white': 3, 'black': 4}    {'white': 5, 'black': 5}   \n",
      "...                          ...                         ...   \n",
      "232172  {'white': 2, 'black': 3}  {'white': 11, 'black': 14}   \n",
      "232173  {'white': 0, 'black': 4}    {'white': 0, 'black': 8}   \n",
      "232174  {'white': 5, 'black': 7}   {'white': 11, 'black': 4}   \n",
      "232175  {'white': 3, 'black': 4}   {'white': 10, 'black': 9}   \n",
      "232176  {'white': 4, 'black': 2}  {'white': 25, 'black': 38}   \n",
      "\n",
      "                    mistake_counts          first_mistake_move  \\\n",
      "0       {'white': 10, 'black': 19}    {'white': 6, 'black': 3}   \n",
      "1        {'white': 9, 'black': 15}    {'white': 4, 'black': 4}   \n",
      "2        {'white': 8, 'black': 13}    {'white': 3, 'black': 2}   \n",
      "3        {'white': 8, 'black': 13}    {'white': 7, 'black': 6}   \n",
      "4       {'white': 10, 'black': 16}    {'white': 5, 'black': 4}   \n",
      "...                            ...                         ...   \n",
      "232172    {'white': 8, 'black': 9}    {'white': 7, 'black': 6}   \n",
      "232173    {'white': 5, 'black': 8}    {'white': 9, 'black': 8}   \n",
      "232174  {'white': 12, 'black': 15}    {'white': 3, 'black': 3}   \n",
      "232175    {'white': 7, 'black': 6}   {'white': 10, 'black': 9}   \n",
      "232176    {'white': 8, 'black': 5}  {'white': 15, 'black': 14}   \n",
      "\n",
      "            first_win_opportunity  first_opp_win_opportunity  \\\n",
      "0        {'white': 8, 'black': 0}   {'white': 0, 'black': 5}   \n",
      "1       {'white': 19, 'black': 0}  {'white': 0, 'black': 18}   \n",
      "2        {'white': 5, 'black': 3}  {'white': 10, 'black': 4}   \n",
      "3        {'white': 8, 'black': 0}   {'white': 0, 'black': 7}   \n",
      "4        {'white': 6, 'black': 0}   {'white': 5, 'black': 5}   \n",
      "...                           ...                        ...   \n",
      "232172  {'white': 23, 'black': 0}  {'white': 0, 'black': 22}   \n",
      "232173  {'white': 12, 'black': 0}   {'white': 0, 'black': 8}   \n",
      "232174  {'white': 12, 'black': 0}  {'white': 0, 'black': 10}   \n",
      "232175  {'white': 16, 'black': 0}   {'white': 0, 'black': 9}   \n",
      "232176  {'white': 0, 'black': 31}  {'white': 31, 'black': 0}   \n",
      "\n",
      "                 knight_edge_first         knight_edge_count  \\\n",
      "0        {'white': 13, 'black': 7}  {'white': 3, 'black': 1}   \n",
      "1       {'white': 19, 'black': 18}  {'white': 2, 'black': 1}   \n",
      "2         {'white': 0, 'black': 0}  {'white': 0, 'black': 0}   \n",
      "3        {'white': 32, 'black': 0}  {'white': 1, 'black': 0}   \n",
      "4         {'white': 0, 'black': 5}  {'white': 0, 'black': 1}   \n",
      "...                            ...                       ...   \n",
      "232172   {'white': 11, 'black': 0}  {'white': 1, 'black': 0}   \n",
      "232173    {'white': 0, 'black': 0}  {'white': 0, 'black': 0}   \n",
      "232174    {'white': 8, 'black': 0}  {'white': 1, 'black': 0}   \n",
      "232175   {'white': 11, 'black': 0}  {'white': 1, 'black': 0}   \n",
      "232176    {'white': 0, 'black': 0}  {'white': 0, 'black': 0}   \n",
      "\n",
      "                    rook_7th_first  \n",
      "0         {'white': 0, 'black': 0}  \n",
      "1         {'white': 0, 'black': 0}  \n",
      "2         {'white': 0, 'black': 0}  \n",
      "3        {'white': 0, 'black': 31}  \n",
      "4         {'white': 0, 'black': 0}  \n",
      "...                            ...  \n",
      "232172  {'white': 20, 'black': 22}  \n",
      "232173    {'white': 0, 'black': 0}  \n",
      "232174    {'white': 0, 'black': 0}  \n",
      "232175   {'white': 22, 'black': 0}  \n",
      "232176    {'white': 0, 'black': 0}  \n",
      "\n",
      "[232177 rows x 16 columns]\n"
     ]
    }
   ],
   "execution_count": 15
  },
  {
   "metadata": {
    "ExecuteTime": {
     "end_time": "2025-06-08T12:00:56.722166Z",
     "start_time": "2025-06-08T12:00:53.329542Z"
    }
   },
   "cell_type": "code",
   "source": "#features_df.to_csv(\"../data/features.csv\", index=False)",
   "id": "17dbe896e5142cb5",
   "outputs": [],
   "execution_count": 10
  },
  {
   "metadata": {},
   "cell_type": "code",
   "outputs": [],
   "execution_count": null,
   "source": "#features_df = pd.read_csv(\"../data/features.csv\")",
   "id": "de4896fd40db5374"
  },
  {
   "metadata": {
    "ExecuteTime": {
     "end_time": "2025-06-08T15:31:59.349728Z",
     "start_time": "2025-06-08T15:31:52.253357Z"
    }
   },
   "cell_type": "code",
   "source": [
    "# flatten one level of nesting (white/black):\n",
    "raw = pd.json_normalize(features_list)\n",
    "\n",
    "# This creates columns like “moves_before_castle.white” and “moves_before_castle.black”,\n",
    "# as well as “pawn_counts_at.25.white” etc.\n",
    "\n",
    "# Rename columns to look like “moves_before_castle_white”:\n",
    "raw.columns = [col.replace(\".\", \"_\") for col in raw.columns]\n",
    "\n",
    "# Some columns (like pawn_counts_at_25_white) contain 3‑tuples (iso, dbl, tri).\n",
    "# We detect those columns whose values are tuples and split each tuple into three new columns.\n",
    "\n",
    "# Find columns with tuple values:\n",
    "tuple_cols = [\n",
    "    c for c in raw.columns\n",
    "    if raw[c].apply(lambda x: isinstance(x, tuple)).any()\n",
    "]\n",
    "\n",
    "for col in tuple_cols:\n",
    "    # Create three new columns from the tuple (iso, dbl, tri)\n",
    "    raw[[f\"{col}_iso\", f\"{col}_dbl\", f\"{col}_tri\"]] = pd.DataFrame(\n",
    "        raw[col].tolist(), index=raw.index\n",
    "    )\n",
    "    # Drop the original “tuple” column\n",
    "    raw.drop(columns=[col], inplace=True)\n",
    "\n",
    "# “raw” is now fully flattened. Every white/black metric is two separate columns,\n",
    "# and any triple‑tuple fields (pawn_counts, doubled, tripled) have been unpacked.\n",
    "\n",
    "raw[\"ECO\"] = df_filtered[\"ECO\"]\n",
    "raw[\"Termination\"] = df_filtered[\"Termination\"]\n",
    "\n",
    "#divide df into 10 equally sized bins based on whites elo\n",
    "raw['elo_bin'] = pd.qcut(df_filtered['WhiteElo'], q=10, labels=False)\n",
    "raw['white_acpl'] = df_filtered['white_accuracy_cp']\n",
    "raw['black_acpl'] = df_filtered['black_accuracy_cp']\n",
    "\n",
    "# check created bins\n",
    "binned, bin_edges = pd.qcut(df_filtered['WhiteElo'], q=10, labels=False, retbins=True)\n",
    "\n",
    "print(\"Bin edges (WhiteElo):\")\n",
    "print(bin_edges)\n",
    "print(raw.columns)"
   ],
   "id": "e0e3e9f0a383d247",
   "outputs": [
    {
     "name": "stdout",
     "output_type": "stream",
     "text": [
      "Bin edges (WhiteElo):\n",
      "[ 400. 1015. 1186. 1317. 1438. 1533. 1645. 1761. 1886. 2047. 3119.]\n",
      "Index(['total_full_moves', 'moves_before_castle_white',\n",
      "       'moves_before_castle_black', 'legal_move_diff_at_25',\n",
      "       'legal_move_diff_at_50', 'legal_move_diff_at_75',\n",
      "       'legal_move_diff_at_100', 'development_before_white',\n",
      "       'development_before_black', 'center_control_after_5_white',\n",
      "       'center_control_after_5_black', 'unique_pieces_after_10_white',\n",
      "       'unique_pieces_after_10_black', 'blunder_counts_white',\n",
      "       'blunder_counts_black', 'first_blunder_move_white',\n",
      "       'first_blunder_move_black', 'mistake_counts_white',\n",
      "       'mistake_counts_black', 'first_mistake_move_white',\n",
      "       'first_mistake_move_black', 'first_win_opportunity_white',\n",
      "       'first_win_opportunity_black', 'first_opp_win_opportunity_white',\n",
      "       'first_opp_win_opportunity_black', 'knight_edge_first_white',\n",
      "       'knight_edge_first_black', 'knight_edge_count_white',\n",
      "       'knight_edge_count_black', 'rook_7th_first_white',\n",
      "       'rook_7th_first_black', 'pawn_counts_at_white_25_iso',\n",
      "       'pawn_counts_at_white_25_dbl', 'pawn_counts_at_white_25_tri',\n",
      "       'pawn_counts_at_white_50_iso', 'pawn_counts_at_white_50_dbl',\n",
      "       'pawn_counts_at_white_50_tri', 'pawn_counts_at_white_75_iso',\n",
      "       'pawn_counts_at_white_75_dbl', 'pawn_counts_at_white_75_tri',\n",
      "       'pawn_counts_at_white_100_iso', 'pawn_counts_at_white_100_dbl',\n",
      "       'pawn_counts_at_white_100_tri', 'pawn_counts_at_black_25_iso',\n",
      "       'pawn_counts_at_black_25_dbl', 'pawn_counts_at_black_25_tri',\n",
      "       'pawn_counts_at_black_50_iso', 'pawn_counts_at_black_50_dbl',\n",
      "       'pawn_counts_at_black_50_tri', 'pawn_counts_at_black_75_iso',\n",
      "       'pawn_counts_at_black_75_dbl', 'pawn_counts_at_black_75_tri',\n",
      "       'pawn_counts_at_black_100_iso', 'pawn_counts_at_black_100_dbl',\n",
      "       'pawn_counts_at_black_100_tri', 'ECO', 'Termination', 'elo_bin',\n",
      "       'white_acpl', 'black_acpl'],\n",
      "      dtype='object')\n"
     ]
    }
   ],
   "execution_count": 16
  },
  {
   "metadata": {},
   "cell_type": "code",
   "outputs": [],
   "execution_count": null,
   "source": "#raw.to_csv(\"../data/final_data.csv\", index=False)",
   "id": "77394c0447e47a06"
  },
  {
   "metadata": {},
   "cell_type": "code",
   "source": "#raw = pd.read_csv(\"../data/final_data.csv\")",
   "id": "34a810bf9b4a6fbb",
   "outputs": [],
   "execution_count": null
  },
  {
   "metadata": {
    "ExecuteTime": {
     "end_time": "2025-06-08T15:33:05.487166Z",
     "start_time": "2025-06-08T15:33:05.241339Z"
    }
   },
   "cell_type": "code",
   "source": [
    "from sklearn.pipeline import Pipeline\n",
    "from sklearn.compose import ColumnTransformer\n",
    "from sklearn.preprocessing import StandardScaler, OneHotEncoder\n",
    "\n",
    "# Numeric transformer: StandardScaler()\n",
    "numeric_transformer = Pipeline(\n",
    "    steps=[\n",
    "        (\"scaler\", StandardScaler())\n",
    "    ]\n",
    ")\n",
    "\n",
    "# Categorical transformer: OneHotEncoder\n",
    "categorical_transformer = Pipeline(\n",
    "    steps=[\n",
    "        (\"ohe\", OneHotEncoder(handle_unknown=\"ignore\", sparse_output=False))\n",
    "    ]\n",
    ")\n",
    "\n",
    "num_cols = [\n",
    "    'total_full_moves',\n",
    "    'moves_before_castle_white',\n",
    "    'moves_before_castle_black',\n",
    "    'legal_move_diff_at_25',\n",
    "    'legal_move_diff_at_50',\n",
    "    'legal_move_diff_at_75',\n",
    "    'legal_move_diff_at_100',\n",
    "    'development_before_white',\n",
    "    'development_before_black',\n",
    "    'center_control_after_5_white',\n",
    "    'center_control_after_5_black',\n",
    "    'unique_pieces_after_10_white',\n",
    "    'unique_pieces_after_10_black',\n",
    "    'blunder_counts_white',\n",
    "    'blunder_counts_black',\n",
    "    'first_blunder_move_white',\n",
    "    'first_blunder_move_black',\n",
    "    'mistake_counts_white',\n",
    "    'mistake_counts_black',\n",
    "    'first_mistake_move_white',\n",
    "    'first_mistake_move_black',\n",
    "    'first_win_opportunity_white',\n",
    "    'first_win_opportunity_black',\n",
    "    'first_opp_win_opportunity_white',\n",
    "    'first_opp_win_opportunity_black',\n",
    "    'knight_edge_first_white',\n",
    "    'knight_edge_first_black',\n",
    "    'knight_edge_count_white',\n",
    "    'knight_edge_count_black',\n",
    "    'rook_7th_first_white',\n",
    "    'rook_7th_first_black',\n",
    "    'pawn_counts_at_white_25_iso',\n",
    "    'pawn_counts_at_white_25_dbl',\n",
    "    'pawn_counts_at_white_25_tri',\n",
    "    'pawn_counts_at_white_50_iso',\n",
    "    'pawn_counts_at_white_50_dbl',\n",
    "    'pawn_counts_at_white_50_tri',\n",
    "    'pawn_counts_at_white_75_iso',\n",
    "    'pawn_counts_at_white_75_dbl',\n",
    "    'pawn_counts_at_white_75_tri',\n",
    "    'pawn_counts_at_white_100_iso',\n",
    "    'pawn_counts_at_white_100_dbl',\n",
    "    'pawn_counts_at_white_100_tri',\n",
    "    'pawn_counts_at_black_25_iso',\n",
    "    'pawn_counts_at_black_25_dbl',\n",
    "    'pawn_counts_at_black_25_tri',\n",
    "    'pawn_counts_at_black_50_iso',\n",
    "    'pawn_counts_at_black_50_dbl',\n",
    "    'pawn_counts_at_black_50_tri',\n",
    "    'pawn_counts_at_black_75_iso',\n",
    "    'pawn_counts_at_black_75_dbl',\n",
    "    'pawn_counts_at_black_75_tri',\n",
    "    'pawn_counts_at_black_100_iso',\n",
    "    'pawn_counts_at_black_100_dbl',\n",
    "    'pawn_counts_at_black_100_tri',\n",
    "    'black_acpl',\n",
    "    'white_acpl'\n",
    "]\n",
    "cat_cols = [\"ECO\", \"Termination\"]\n",
    "\n",
    "preprocessor = ColumnTransformer(\n",
    "    transformers=[\n",
    "        (\"num\", numeric_transformer, num_cols),\n",
    "        (\"cat\", categorical_transformer, cat_cols),\n",
    "    ],\n",
    "    remainder=\"drop\",  # drop any other columns\n",
    ")\n"
   ],
   "id": "b1d327bcf59953d8",
   "outputs": [],
   "execution_count": 18
  },
  {
   "metadata": {
    "ExecuteTime": {
     "end_time": "2025-06-08T16:31:04.266722Z",
     "start_time": "2025-06-08T16:23:31.155589Z"
    }
   },
   "cell_type": "code",
   "source": [
    "import optuna\n",
    "from sklearn.compose import ColumnTransformer\n",
    "from sklearn.preprocessing import StandardScaler, OneHotEncoder\n",
    "from sklearn.model_selection import cross_val_score, StratifiedKFold\n",
    "\n",
    "# Hyperparameter OOptimization using Optuna\n",
    "# Goal is to find the best set oh HP's for our classification task\n",
    "# Ran with a subset (30k) of games due to computational limitations\n",
    "\n",
    "\n",
    "num_cols = [\n",
    "    'total_full_moves',\n",
    "    'moves_before_castle_white',\n",
    "    'moves_before_castle_black',\n",
    "    'legal_move_diff_at_25',\n",
    "    'legal_move_diff_at_50',\n",
    "    'legal_move_diff_at_75',\n",
    "    'legal_move_diff_at_100',\n",
    "    'development_before_white',\n",
    "    'development_before_black',\n",
    "    'center_control_after_5_white',\n",
    "    'center_control_after_5_black',\n",
    "    'unique_pieces_after_10_white',\n",
    "    'unique_pieces_after_10_black',\n",
    "    'blunder_counts_white',\n",
    "    'blunder_counts_black',\n",
    "    'first_blunder_move_white',\n",
    "    'first_blunder_move_black',\n",
    "    'mistake_counts_white',\n",
    "    'mistake_counts_black',\n",
    "    'first_mistake_move_white',\n",
    "    'first_mistake_move_black',\n",
    "    'first_win_opportunity_white',\n",
    "     'first_win_opportunity_black',\n",
    "    'first_opp_win_opportunity_white',\n",
    "    'first_opp_win_opportunity_black',\n",
    "    'knight_edge_first_white',\n",
    "    'knight_edge_first_black',\n",
    "    'knight_edge_count_white',\n",
    "    'knight_edge_count_black',\n",
    "    'rook_7th_first_white',\n",
    "    'rook_7th_first_black',\n",
    "    'pawn_counts_at_white_25_iso',\n",
    "    'pawn_counts_at_white_25_dbl',\n",
    "    'pawn_counts_at_white_25_tri',\n",
    "    'pawn_counts_at_white_50_iso',\n",
    "    'pawn_counts_at_white_50_dbl',\n",
    "    'pawn_counts_at_white_50_tri',\n",
    "    'pawn_counts_at_white_75_iso',\n",
    "    'pawn_counts_at_white_75_dbl',\n",
    "    'pawn_counts_at_white_75_tri',\n",
    "    'pawn_counts_at_white_100_iso',\n",
    "    'pawn_counts_at_white_100_dbl',\n",
    "    'pawn_counts_at_white_100_tri',\n",
    "    'pawn_counts_at_black_25_iso',\n",
    "    'pawn_counts_at_black_25_dbl',\n",
    "    'pawn_counts_at_black_25_tri',\n",
    "    'pawn_counts_at_black_50_iso',\n",
    "    'pawn_counts_at_black_50_dbl',\n",
    "    'pawn_counts_at_black_50_tri',\n",
    "    'pawn_counts_at_black_75_iso',\n",
    "    'pawn_counts_at_black_75_dbl',\n",
    "    'pawn_counts_at_black_75_tri',\n",
    "    'pawn_counts_at_black_100_iso',\n",
    "    'pawn_counts_at_black_100_dbl',\n",
    "    'pawn_counts_at_black_100_tri',\n",
    "    'black_acpl',\n",
    "    'white_acpl'\n",
    "]\n",
    "cat_cols = ['ECO', 'Termination']\n",
    "\n",
    "# Preprocessing\n",
    "preprocessor = ColumnTransformer([\n",
    "    (\"num\", StandardScaler(), num_cols),\n",
    "    (\"cat\", OneHotEncoder(handle_unknown=\"ignore\"), cat_cols)\n",
    "])\n",
    "\n",
    "# Use stratified 5-fold CV\n",
    "cv = StratifiedKFold(n_splits=5, shuffle=True, random_state=42)\n",
    "\n",
    "# X and y\n",
    "X = raw[:1000]\n",
    "y = raw['elo_bin'].astype(int)[:1000]\n",
    "\n",
    "# Define Optuna objective function\n",
    "def objective(trial):\n",
    "    # Sample hyperparameters\n",
    "    n_estimators = trial.suggest_int(\"n_estimators\", 200, 1500)\n",
    "    max_depth = trial.suggest_int(\"max_depth\", 10, 100)\n",
    "    min_samples_split = trial.suggest_int(\"min_samples_split\", 2, 10)\n",
    "    min_samples_leaf = trial.suggest_int(\"min_samples_leaf\", 1, 10)\n",
    "    max_features = trial.suggest_categorical(\"max_features\", [\"sqrt\", \"log2\", None])\n",
    "\n",
    "    # Create pipeline\n",
    "    clf = Pipeline([\n",
    "        (\"pre\", preprocessor),\n",
    "        (\"clf\", RandomForestClassifier(\n",
    "            n_estimators=n_estimators,\n",
    "            max_depth=max_depth,\n",
    "            min_samples_split=min_samples_split,\n",
    "            min_samples_leaf=min_samples_leaf,\n",
    "            max_features=max_features,\n",
    "            bootstrap=True,\n",
    "            random_state=42,\n",
    "            n_jobs=1\n",
    "        ))\n",
    "    ])\n",
    "\n",
    "    # Evaluate with CV\n",
    "    score = cross_val_score(clf, X, y, cv=cv, scoring=\"accuracy\", n_jobs=1)\n",
    "    return score.mean()\n",
    "\n",
    "# Run optimization\n",
    "study = optuna.create_study(direction=\"maximize\")\n",
    "study.optimize(objective, n_trials=50, n_jobs=1, show_progress_bar=True)\n",
    "\n",
    "# Print best params\n",
    "print(\"Best parameters:\")\n",
    "print(study.best_params)\n",
    "print(f\"Best CV accuracy: {study.best_value:.4f}\")\n"
   ],
   "id": "4ce730d58d07dd7a",
   "outputs": [
    {
     "name": "stderr",
     "output_type": "stream",
     "text": [
      "[I 2025-06-08 18:23:31,161] A new study created in memory with name: no-name-22aa4c81-b38e-4a56-8f84-309b412f09b1\n",
      "Best trial: 0. Best value: 0.212:   2%|▏         | 1/50 [00:06<05:07,  6.29s/it]"
     ]
    },
    {
     "name": "stdout",
     "output_type": "stream",
     "text": [
      "[I 2025-06-08 18:23:37,447] Trial 0 finished with value: 0.21200000000000002 and parameters: {'n_estimators': 1494, 'max_depth': 39, 'min_samples_split': 2, 'min_samples_leaf': 4, 'max_features': 'log2'}. Best is trial 0 with value: 0.21200000000000002.\n"
     ]
    },
    {
     "name": "stderr",
     "output_type": "stream",
     "text": [
      "Best trial: 1. Best value: 0.215:   4%|▍         | 2/50 [00:07<02:39,  3.32s/it]"
     ]
    },
    {
     "name": "stdout",
     "output_type": "stream",
     "text": [
      "[I 2025-06-08 18:23:38,687] Trial 1 finished with value: 0.215 and parameters: {'n_estimators': 229, 'max_depth': 51, 'min_samples_split': 4, 'min_samples_leaf': 7, 'max_features': 'sqrt'}. Best is trial 1 with value: 0.215.\n"
     ]
    },
    {
     "name": "stderr",
     "output_type": "stream",
     "text": [
      "Best trial: 1. Best value: 0.215:   6%|▌         | 3/50 [00:35<11:26, 14.60s/it]"
     ]
    },
    {
     "name": "stdout",
     "output_type": "stream",
     "text": [
      "[I 2025-06-08 18:24:06,713] Trial 2 finished with value: 0.21300000000000002 and parameters: {'n_estimators': 780, 'max_depth': 79, 'min_samples_split': 6, 'min_samples_leaf': 5, 'max_features': None}. Best is trial 1 with value: 0.215.\n"
     ]
    },
    {
     "name": "stderr",
     "output_type": "stream",
     "text": [
      "Best trial: 1. Best value: 0.215:   8%|▊         | 4/50 [01:06<16:14, 21.19s/it]"
     ]
    },
    {
     "name": "stdout",
     "output_type": "stream",
     "text": [
      "[I 2025-06-08 18:24:37,998] Trial 3 finished with value: 0.205 and parameters: {'n_estimators': 740, 'max_depth': 48, 'min_samples_split': 8, 'min_samples_leaf': 3, 'max_features': None}. Best is trial 1 with value: 0.215.\n"
     ]
    },
    {
     "name": "stderr",
     "output_type": "stream",
     "text": [
      "Best trial: 1. Best value: 0.215:  10%|█         | 5/50 [01:30<16:32, 22.06s/it]"
     ]
    },
    {
     "name": "stdout",
     "output_type": "stream",
     "text": [
      "[I 2025-06-08 18:25:01,618] Trial 4 finished with value: 0.20800000000000002 and parameters: {'n_estimators': 819, 'max_depth': 89, 'min_samples_split': 9, 'min_samples_leaf': 8, 'max_features': None}. Best is trial 1 with value: 0.215.\n"
     ]
    },
    {
     "name": "stderr",
     "output_type": "stream",
     "text": [
      "Best trial: 5. Best value: 0.23:  12%|█▏        | 6/50 [01:32<11:16, 15.38s/it] "
     ]
    },
    {
     "name": "stdout",
     "output_type": "stream",
     "text": [
      "[I 2025-06-08 18:25:04,024] Trial 5 finished with value: 0.22999999999999998 and parameters: {'n_estimators': 474, 'max_depth': 42, 'min_samples_split': 10, 'min_samples_leaf': 8, 'max_features': 'sqrt'}. Best is trial 5 with value: 0.22999999999999998.\n"
     ]
    },
    {
     "name": "stderr",
     "output_type": "stream",
     "text": [
      "Best trial: 5. Best value: 0.23:  14%|█▍        | 7/50 [01:38<08:51, 12.36s/it]"
     ]
    },
    {
     "name": "stdout",
     "output_type": "stream",
     "text": [
      "[I 2025-06-08 18:25:10,159] Trial 6 finished with value: 0.20900000000000002 and parameters: {'n_estimators': 843, 'max_depth': 39, 'min_samples_split': 3, 'min_samples_leaf': 1, 'max_features': 'log2'}. Best is trial 5 with value: 0.22999999999999998.\n"
     ]
    },
    {
     "name": "stderr",
     "output_type": "stream",
     "text": [
      "Best trial: 5. Best value: 0.23:  16%|█▌        | 8/50 [01:40<06:10,  8.82s/it]"
     ]
    },
    {
     "name": "stdout",
     "output_type": "stream",
     "text": [
      "[I 2025-06-08 18:25:11,403] Trial 7 finished with value: 0.21800000000000003 and parameters: {'n_estimators': 288, 'max_depth': 99, 'min_samples_split': 9, 'min_samples_leaf': 4, 'max_features': 'log2'}. Best is trial 5 with value: 0.22999999999999998.\n"
     ]
    },
    {
     "name": "stderr",
     "output_type": "stream",
     "text": [
      "Best trial: 5. Best value: 0.23:  18%|█▊        | 9/50 [02:02<08:55, 13.06s/it]"
     ]
    },
    {
     "name": "stdout",
     "output_type": "stream",
     "text": [
      "[I 2025-06-08 18:25:33,791] Trial 8 finished with value: 0.21600000000000003 and parameters: {'n_estimators': 564, 'max_depth': 76, 'min_samples_split': 8, 'min_samples_leaf': 4, 'max_features': None}. Best is trial 5 with value: 0.22999999999999998.\n"
     ]
    },
    {
     "name": "stderr",
     "output_type": "stream",
     "text": [
      "Best trial: 5. Best value: 0.23:  20%|██        | 10/50 [02:14<08:23, 12.59s/it]"
     ]
    },
    {
     "name": "stdout",
     "output_type": "stream",
     "text": [
      "[I 2025-06-08 18:25:45,339] Trial 9 finished with value: 0.21100000000000002 and parameters: {'n_estimators': 1467, 'max_depth': 59, 'min_samples_split': 4, 'min_samples_leaf': 2, 'max_features': 'sqrt'}. Best is trial 5 with value: 0.22999999999999998.\n"
     ]
    },
    {
     "name": "stderr",
     "output_type": "stream",
     "text": [
      "Best trial: 5. Best value: 0.23:  22%|██▏       | 11/50 [02:20<06:51, 10.54s/it]"
     ]
    },
    {
     "name": "stdout",
     "output_type": "stream",
     "text": [
      "[I 2025-06-08 18:25:51,224] Trial 10 finished with value: 0.22200000000000003 and parameters: {'n_estimators': 1234, 'max_depth': 13, 'min_samples_split': 10, 'min_samples_leaf': 10, 'max_features': 'sqrt'}. Best is trial 5 with value: 0.22999999999999998.\n"
     ]
    },
    {
     "name": "stderr",
     "output_type": "stream",
     "text": [
      "Best trial: 5. Best value: 0.23:  24%|██▍       | 12/50 [02:25<05:41,  9.00s/it]"
     ]
    },
    {
     "name": "stdout",
     "output_type": "stream",
     "text": [
      "[I 2025-06-08 18:25:56,693] Trial 11 finished with value: 0.22800000000000004 and parameters: {'n_estimators': 1156, 'max_depth': 11, 'min_samples_split': 10, 'min_samples_leaf': 10, 'max_features': 'sqrt'}. Best is trial 5 with value: 0.22999999999999998.\n"
     ]
    },
    {
     "name": "stderr",
     "output_type": "stream",
     "text": [
      "Best trial: 5. Best value: 0.23:  26%|██▌       | 13/50 [02:30<04:51,  7.87s/it]"
     ]
    },
    {
     "name": "stdout",
     "output_type": "stream",
     "text": [
      "[I 2025-06-08 18:26:01,982] Trial 12 finished with value: 0.225 and parameters: {'n_estimators': 1116, 'max_depth': 11, 'min_samples_split': 10, 'min_samples_leaf': 10, 'max_features': 'sqrt'}. Best is trial 5 with value: 0.22999999999999998.\n"
     ]
    },
    {
     "name": "stderr",
     "output_type": "stream",
     "text": [
      "Best trial: 13. Best value: 0.231:  28%|██▊       | 14/50 [02:36<04:17,  7.16s/it]"
     ]
    },
    {
     "name": "stdout",
     "output_type": "stream",
     "text": [
      "[I 2025-06-08 18:26:07,490] Trial 13 finished with value: 0.231 and parameters: {'n_estimators': 1097, 'max_depth': 25, 'min_samples_split': 7, 'min_samples_leaf': 8, 'max_features': 'sqrt'}. Best is trial 13 with value: 0.231.\n"
     ]
    },
    {
     "name": "stderr",
     "output_type": "stream",
     "text": [
      "Best trial: 13. Best value: 0.231:  30%|███       | 15/50 [02:38<03:21,  5.77s/it]"
     ]
    },
    {
     "name": "stdout",
     "output_type": "stream",
     "text": [
      "[I 2025-06-08 18:26:10,032] Trial 14 finished with value: 0.22399999999999998 and parameters: {'n_estimators': 480, 'max_depth': 29, 'min_samples_split': 6, 'min_samples_leaf': 7, 'max_features': 'sqrt'}. Best is trial 13 with value: 0.231.\n"
     ]
    },
    {
     "name": "stderr",
     "output_type": "stream",
     "text": [
      "Best trial: 15. Best value: 0.232:  32%|███▏      | 16/50 [02:43<03:08,  5.55s/it]"
     ]
    },
    {
     "name": "stdout",
     "output_type": "stream",
     "text": [
      "[I 2025-06-08 18:26:15,081] Trial 15 finished with value: 0.23199999999999998 and parameters: {'n_estimators': 1004, 'max_depth': 25, 'min_samples_split': 7, 'min_samples_leaf': 8, 'max_features': 'sqrt'}. Best is trial 15 with value: 0.23199999999999998.\n"
     ]
    },
    {
     "name": "stderr",
     "output_type": "stream",
     "text": [
      "Best trial: 15. Best value: 0.232:  34%|███▍      | 17/50 [02:49<02:59,  5.43s/it]"
     ]
    },
    {
     "name": "stdout",
     "output_type": "stream",
     "text": [
      "[I 2025-06-08 18:26:20,221] Trial 16 finished with value: 0.23199999999999998 and parameters: {'n_estimators': 1022, 'max_depth': 27, 'min_samples_split': 7, 'min_samples_leaf': 8, 'max_features': 'sqrt'}. Best is trial 15 with value: 0.23199999999999998.\n"
     ]
    },
    {
     "name": "stderr",
     "output_type": "stream",
     "text": [
      "Best trial: 15. Best value: 0.232:  36%|███▌      | 18/50 [02:54<02:52,  5.39s/it]"
     ]
    },
    {
     "name": "stdout",
     "output_type": "stream",
     "text": [
      "[I 2025-06-08 18:26:25,530] Trial 17 finished with value: 0.223 and parameters: {'n_estimators': 972, 'max_depth': 26, 'min_samples_split': 5, 'min_samples_leaf': 6, 'max_features': 'sqrt'}. Best is trial 15 with value: 0.23199999999999998.\n"
     ]
    },
    {
     "name": "stderr",
     "output_type": "stream",
     "text": [
      "Best trial: 15. Best value: 0.232:  38%|███▊      | 19/50 [03:00<02:56,  5.68s/it]"
     ]
    },
    {
     "name": "stdout",
     "output_type": "stream",
     "text": [
      "[I 2025-06-08 18:26:31,883] Trial 18 finished with value: 0.22799999999999998 and parameters: {'n_estimators': 1300, 'max_depth': 65, 'min_samples_split': 7, 'min_samples_leaf': 9, 'max_features': 'sqrt'}. Best is trial 15 with value: 0.23199999999999998.\n"
     ]
    },
    {
     "name": "stderr",
     "output_type": "stream",
     "text": [
      "Best trial: 15. Best value: 0.232:  40%|████      | 20/50 [03:04<02:32,  5.09s/it]"
     ]
    },
    {
     "name": "stdout",
     "output_type": "stream",
     "text": [
      "[I 2025-06-08 18:26:35,595] Trial 19 finished with value: 0.215 and parameters: {'n_estimators': 975, 'max_depth': 23, 'min_samples_split': 6, 'min_samples_leaf': 6, 'max_features': 'log2'}. Best is trial 15 with value: 0.23199999999999998.\n"
     ]
    },
    {
     "name": "stderr",
     "output_type": "stream",
     "text": [
      "Best trial: 15. Best value: 0.232:  42%|████▏     | 21/50 [03:09<02:25,  5.01s/it]"
     ]
    },
    {
     "name": "stdout",
     "output_type": "stream",
     "text": [
      "[I 2025-06-08 18:26:40,432] Trial 20 finished with value: 0.22599999999999998 and parameters: {'n_estimators': 990, 'max_depth': 33, 'min_samples_split': 7, 'min_samples_leaf': 9, 'max_features': 'sqrt'}. Best is trial 15 with value: 0.23199999999999998.\n"
     ]
    },
    {
     "name": "stderr",
     "output_type": "stream",
     "text": [
      "Best trial: 15. Best value: 0.232:  44%|████▍     | 22/50 [03:14<02:24,  5.17s/it]"
     ]
    },
    {
     "name": "stdout",
     "output_type": "stream",
     "text": [
      "[I 2025-06-08 18:26:45,962] Trial 21 finished with value: 0.231 and parameters: {'n_estimators': 1099, 'max_depth': 20, 'min_samples_split': 7, 'min_samples_leaf': 8, 'max_features': 'sqrt'}. Best is trial 15 with value: 0.23199999999999998.\n"
     ]
    },
    {
     "name": "stderr",
     "output_type": "stream",
     "text": [
      "Best trial: 15. Best value: 0.232:  46%|████▌     | 23/50 [03:21<02:34,  5.74s/it]"
     ]
    },
    {
     "name": "stdout",
     "output_type": "stream",
     "text": [
      "[I 2025-06-08 18:26:53,021] Trial 22 finished with value: 0.22999999999999998 and parameters: {'n_estimators': 1352, 'max_depth': 20, 'min_samples_split': 8, 'min_samples_leaf': 7, 'max_features': 'sqrt'}. Best is trial 15 with value: 0.23199999999999998.\n"
     ]
    },
    {
     "name": "stderr",
     "output_type": "stream",
     "text": [
      "Best trial: 15. Best value: 0.232:  48%|████▊     | 24/50 [03:26<02:23,  5.53s/it]"
     ]
    },
    {
     "name": "stdout",
     "output_type": "stream",
     "text": [
      "[I 2025-06-08 18:26:58,069] Trial 23 finished with value: 0.229 and parameters: {'n_estimators': 1033, 'max_depth': 33, 'min_samples_split': 5, 'min_samples_leaf': 9, 'max_features': 'sqrt'}. Best is trial 15 with value: 0.23199999999999998.\n"
     ]
    },
    {
     "name": "stderr",
     "output_type": "stream",
     "text": [
      "Best trial: 15. Best value: 0.232:  50%|█████     | 25/50 [03:30<02:01,  4.85s/it]"
     ]
    },
    {
     "name": "stdout",
     "output_type": "stream",
     "text": [
      "[I 2025-06-08 18:27:01,349] Trial 24 finished with value: 0.22599999999999998 and parameters: {'n_estimators': 649, 'max_depth': 19, 'min_samples_split': 7, 'min_samples_leaf': 8, 'max_features': 'sqrt'}. Best is trial 15 with value: 0.23199999999999998.\n"
     ]
    },
    {
     "name": "stderr",
     "output_type": "stream",
     "text": [
      "Best trial: 15. Best value: 0.232:  52%|█████▏    | 26/50 [03:35<01:57,  4.90s/it]"
     ]
    },
    {
     "name": "stdout",
     "output_type": "stream",
     "text": [
      "[I 2025-06-08 18:27:06,353] Trial 25 finished with value: 0.231 and parameters: {'n_estimators': 911, 'max_depth': 45, 'min_samples_split': 5, 'min_samples_leaf': 6, 'max_features': 'sqrt'}. Best is trial 15 with value: 0.23199999999999998.\n"
     ]
    },
    {
     "name": "stderr",
     "output_type": "stream",
     "text": [
      "Best trial: 15. Best value: 0.232:  54%|█████▍    | 27/50 [03:41<02:02,  5.34s/it]"
     ]
    },
    {
     "name": "stdout",
     "output_type": "stream",
     "text": [
      "[I 2025-06-08 18:27:12,709] Trial 26 finished with value: 0.23199999999999998 and parameters: {'n_estimators': 1217, 'max_depth': 33, 'min_samples_split': 8, 'min_samples_leaf': 7, 'max_features': 'sqrt'}. Best is trial 15 with value: 0.23199999999999998.\n"
     ]
    },
    {
     "name": "stderr",
     "output_type": "stream",
     "text": [
      "Best trial: 15. Best value: 0.232:  56%|█████▌    | 28/50 [03:48<02:05,  5.69s/it]"
     ]
    },
    {
     "name": "stdout",
     "output_type": "stream",
     "text": [
      "[I 2025-06-08 18:27:19,214] Trial 27 finished with value: 0.229 and parameters: {'n_estimators': 1246, 'max_depth': 33, 'min_samples_split': 9, 'min_samples_leaf': 7, 'max_features': 'sqrt'}. Best is trial 15 with value: 0.23199999999999998.\n"
     ]
    },
    {
     "name": "stderr",
     "output_type": "stream",
     "text": [
      "Best trial: 15. Best value: 0.232:  58%|█████▊    | 29/50 [03:53<01:57,  5.59s/it]"
     ]
    },
    {
     "name": "stdout",
     "output_type": "stream",
     "text": [
      "[I 2025-06-08 18:27:24,586] Trial 28 finished with value: 0.21399999999999997 and parameters: {'n_estimators': 1366, 'max_depth': 56, 'min_samples_split': 8, 'min_samples_leaf': 5, 'max_features': 'log2'}. Best is trial 15 with value: 0.23199999999999998.\n"
     ]
    },
    {
     "name": "stderr",
     "output_type": "stream",
     "text": [
      "Best trial: 15. Best value: 0.232:  60%|██████    | 30/50 [04:25<04:33, 13.67s/it]"
     ]
    },
    {
     "name": "stdout",
     "output_type": "stream",
     "text": [
      "[I 2025-06-08 18:27:57,089] Trial 29 finished with value: 0.211 and parameters: {'n_estimators': 1194, 'max_depth': 36, 'min_samples_split': 6, 'min_samples_leaf': 9, 'max_features': None}. Best is trial 15 with value: 0.23199999999999998.\n"
     ]
    },
    {
     "name": "stderr",
     "output_type": "stream",
     "text": [
      "Best trial: 15. Best value: 0.232:  62%|██████▏   | 31/50 [04:31<03:32, 11.18s/it]"
     ]
    },
    {
     "name": "stdout",
     "output_type": "stream",
     "text": [
      "[I 2025-06-08 18:28:02,457] Trial 30 finished with value: 0.209 and parameters: {'n_estimators': 1467, 'max_depth': 63, 'min_samples_split': 2, 'min_samples_leaf': 7, 'max_features': 'log2'}. Best is trial 15 with value: 0.23199999999999998.\n"
     ]
    },
    {
     "name": "stderr",
     "output_type": "stream",
     "text": [
      "Best trial: 15. Best value: 0.232:  64%|██████▍   | 32/50 [04:36<02:50,  9.45s/it]"
     ]
    },
    {
     "name": "stdout",
     "output_type": "stream",
     "text": [
      "[I 2025-06-08 18:28:07,864] Trial 31 finished with value: 0.231 and parameters: {'n_estimators': 1078, 'max_depth': 27, 'min_samples_split': 7, 'min_samples_leaf': 8, 'max_features': 'sqrt'}. Best is trial 15 with value: 0.23199999999999998.\n"
     ]
    },
    {
     "name": "stderr",
     "output_type": "stream",
     "text": [
      "Best trial: 15. Best value: 0.232:  66%|██████▌   | 33/50 [04:41<02:16,  8.03s/it]"
     ]
    },
    {
     "name": "stdout",
     "output_type": "stream",
     "text": [
      "[I 2025-06-08 18:28:12,582] Trial 32 finished with value: 0.22999999999999998 and parameters: {'n_estimators': 901, 'max_depth': 17, 'min_samples_split': 8, 'min_samples_leaf': 7, 'max_features': 'sqrt'}. Best is trial 15 with value: 0.23199999999999998.\n"
     ]
    },
    {
     "name": "stderr",
     "output_type": "stream",
     "text": [
      "Best trial: 15. Best value: 0.232:  68%|██████▊   | 34/50 [04:47<01:56,  7.31s/it]"
     ]
    },
    {
     "name": "stdout",
     "output_type": "stream",
     "text": [
      "[I 2025-06-08 18:28:18,216] Trial 33 finished with value: 0.22999999999999998 and parameters: {'n_estimators': 1156, 'max_depth': 29, 'min_samples_split': 7, 'min_samples_leaf': 9, 'max_features': 'sqrt'}. Best is trial 15 with value: 0.23199999999999998.\n"
     ]
    },
    {
     "name": "stderr",
     "output_type": "stream",
     "text": [
      "Best trial: 15. Best value: 0.232:  70%|███████   | 35/50 [04:53<01:43,  6.91s/it]"
     ]
    },
    {
     "name": "stdout",
     "output_type": "stream",
     "text": [
      "[I 2025-06-08 18:28:24,178] Trial 34 finished with value: 0.22999999999999998 and parameters: {'n_estimators': 1035, 'max_depth': 50, 'min_samples_split': 6, 'min_samples_leaf': 5, 'max_features': 'sqrt'}. Best is trial 15 with value: 0.23199999999999998.\n"
     ]
    },
    {
     "name": "stderr",
     "output_type": "stream",
     "text": [
      "Best trial: 15. Best value: 0.232:  72%|███████▏  | 36/50 [05:14<02:37, 11.27s/it]"
     ]
    },
    {
     "name": "stdout",
     "output_type": "stream",
     "text": [
      "[I 2025-06-08 18:28:45,638] Trial 35 finished with value: 0.21000000000000002 and parameters: {'n_estimators': 742, 'max_depth': 40, 'min_samples_split': 9, 'min_samples_leaf': 8, 'max_features': None}. Best is trial 15 with value: 0.23199999999999998.\n"
     ]
    },
    {
     "name": "stderr",
     "output_type": "stream",
     "text": [
      "Best trial: 15. Best value: 0.232:  74%|███████▍  | 37/50 [05:19<02:01,  9.37s/it]"
     ]
    },
    {
     "name": "stdout",
     "output_type": "stream",
     "text": [
      "[I 2025-06-08 18:28:50,581] Trial 36 finished with value: 0.22800000000000004 and parameters: {'n_estimators': 904, 'max_depth': 16, 'min_samples_split': 8, 'min_samples_leaf': 6, 'max_features': 'sqrt'}. Best is trial 15 with value: 0.23199999999999998.\n"
     ]
    },
    {
     "name": "stderr",
     "output_type": "stream",
     "text": [
      "Best trial: 15. Best value: 0.232:  76%|███████▌  | 38/50 [05:26<01:43,  8.59s/it]"
     ]
    },
    {
     "name": "stdout",
     "output_type": "stream",
     "text": [
      "[I 2025-06-08 18:28:57,359] Trial 37 finished with value: 0.231 and parameters: {'n_estimators': 1350, 'max_depth': 44, 'min_samples_split': 7, 'min_samples_leaf': 8, 'max_features': 'sqrt'}. Best is trial 15 with value: 0.23199999999999998.\n"
     ]
    },
    {
     "name": "stderr",
     "output_type": "stream",
     "text": [
      "Best trial: 15. Best value: 0.232:  78%|███████▊  | 39/50 [06:05<03:14, 17.70s/it]"
     ]
    },
    {
     "name": "stdout",
     "output_type": "stream",
     "text": [
      "[I 2025-06-08 18:29:36,302] Trial 38 finished with value: 0.217 and parameters: {'n_estimators': 1275, 'max_depth': 24, 'min_samples_split': 9, 'min_samples_leaf': 7, 'max_features': None}. Best is trial 15 with value: 0.23199999999999998.\n"
     ]
    },
    {
     "name": "stderr",
     "output_type": "stream",
     "text": [
      "Best trial: 15. Best value: 0.232:  80%|████████  | 40/50 [06:09<02:16, 13.63s/it]"
     ]
    },
    {
     "name": "stdout",
     "output_type": "stream",
     "text": [
      "[I 2025-06-08 18:29:40,429] Trial 39 finished with value: 0.22399999999999998 and parameters: {'n_estimators': 818, 'max_depth': 37, 'min_samples_split': 8, 'min_samples_leaf': 8, 'max_features': 'sqrt'}. Best is trial 15 with value: 0.23199999999999998.\n"
     ]
    },
    {
     "name": "stderr",
     "output_type": "stream",
     "text": [
      "Best trial: 15. Best value: 0.232:  82%|████████▏ | 41/50 [06:12<01:35, 10.64s/it]"
     ]
    },
    {
     "name": "stdout",
     "output_type": "stream",
     "text": [
      "[I 2025-06-08 18:29:44,095] Trial 40 finished with value: 0.21999999999999997 and parameters: {'n_estimators': 1039, 'max_depth': 30, 'min_samples_split': 5, 'min_samples_leaf': 9, 'max_features': 'log2'}. Best is trial 15 with value: 0.23199999999999998.\n"
     ]
    },
    {
     "name": "stderr",
     "output_type": "stream",
     "text": [
      "Best trial: 15. Best value: 0.232:  84%|████████▍ | 42/50 [06:18<01:13,  9.13s/it]"
     ]
    },
    {
     "name": "stdout",
     "output_type": "stream",
     "text": [
      "[I 2025-06-08 18:29:49,715] Trial 41 finished with value: 0.231 and parameters: {'n_estimators': 1107, 'max_depth': 22, 'min_samples_split': 7, 'min_samples_leaf': 8, 'max_features': 'sqrt'}. Best is trial 15 with value: 0.23199999999999998.\n"
     ]
    },
    {
     "name": "stderr",
     "output_type": "stream",
     "text": [
      "Best trial: 42. Best value: 0.234:  86%|████████▌ | 43/50 [06:24<00:57,  8.16s/it]"
     ]
    },
    {
     "name": "stdout",
     "output_type": "stream",
     "text": [
      "[I 2025-06-08 18:29:55,592] Trial 42 finished with value: 0.23399999999999999 and parameters: {'n_estimators': 1166, 'max_depth': 16, 'min_samples_split': 6, 'min_samples_leaf': 8, 'max_features': 'sqrt'}. Best is trial 42 with value: 0.23399999999999999.\n"
     ]
    },
    {
     "name": "stderr",
     "output_type": "stream",
     "text": [
      "Best trial: 42. Best value: 0.234:  88%|████████▊ | 44/50 [06:30<00:45,  7.57s/it]"
     ]
    },
    {
     "name": "stdout",
     "output_type": "stream",
     "text": [
      "[I 2025-06-08 18:30:01,809] Trial 43 finished with value: 0.229 and parameters: {'n_estimators': 1191, 'max_depth': 17, 'min_samples_split': 6, 'min_samples_leaf': 7, 'max_features': 'sqrt'}. Best is trial 42 with value: 0.23399999999999999.\n"
     ]
    },
    {
     "name": "stderr",
     "output_type": "stream",
     "text": [
      "Best trial: 42. Best value: 0.234:  90%|█████████ | 45/50 [06:36<00:34,  7.00s/it]"
     ]
    },
    {
     "name": "stdout",
     "output_type": "stream",
     "text": [
      "[I 2025-06-08 18:30:07,466] Trial 44 finished with value: 0.223 and parameters: {'n_estimators': 1194, 'max_depth': 14, 'min_samples_split': 6, 'min_samples_leaf': 10, 'max_features': 'sqrt'}. Best is trial 42 with value: 0.23399999999999999.\n"
     ]
    },
    {
     "name": "stderr",
     "output_type": "stream",
     "text": [
      "Best trial: 42. Best value: 0.234:  92%|█████████▏| 46/50 [06:43<00:27,  6.95s/it]"
     ]
    },
    {
     "name": "stdout",
     "output_type": "stream",
     "text": [
      "[I 2025-06-08 18:30:14,309] Trial 45 finished with value: 0.23199999999999998 and parameters: {'n_estimators': 1403, 'max_depth': 25, 'min_samples_split': 8, 'min_samples_leaf': 9, 'max_features': 'sqrt'}. Best is trial 42 with value: 0.23399999999999999.\n"
     ]
    },
    {
     "name": "stderr",
     "output_type": "stream",
     "text": [
      "Best trial: 42. Best value: 0.234:  94%|█████████▍| 47/50 [06:49<00:20,  6.89s/it]"
     ]
    },
    {
     "name": "stdout",
     "output_type": "stream",
     "text": [
      "[I 2025-06-08 18:30:21,069] Trial 46 finished with value: 0.22000000000000003 and parameters: {'n_estimators': 1409, 'max_depth': 10, 'min_samples_split': 8, 'min_samples_leaf': 9, 'max_features': 'sqrt'}. Best is trial 42 with value: 0.23399999999999999.\n"
     ]
    },
    {
     "name": "stderr",
     "output_type": "stream",
     "text": [
      "Best trial: 42. Best value: 0.234:  96%|█████████▌| 48/50 [07:23<00:30, 15.01s/it]"
     ]
    },
    {
     "name": "stdout",
     "output_type": "stream",
     "text": [
      "[I 2025-06-08 18:30:55,027] Trial 47 finished with value: 0.21600000000000003 and parameters: {'n_estimators': 1307, 'max_depth': 35, 'min_samples_split': 9, 'min_samples_leaf': 10, 'max_features': None}. Best is trial 42 with value: 0.23399999999999999.\n"
     ]
    },
    {
     "name": "stderr",
     "output_type": "stream",
     "text": [
      "Best trial: 42. Best value: 0.234:  98%|█████████▊| 49/50 [07:31<00:12, 12.68s/it]"
     ]
    },
    {
     "name": "stdout",
     "output_type": "stream",
     "text": [
      "[I 2025-06-08 18:31:02,260] Trial 48 finished with value: 0.231 and parameters: {'n_estimators': 1487, 'max_depth': 81, 'min_samples_split': 4, 'min_samples_leaf': 9, 'max_features': 'sqrt'}. Best is trial 42 with value: 0.23399999999999999.\n"
     ]
    },
    {
     "name": "stderr",
     "output_type": "stream",
     "text": [
      "Best trial: 42. Best value: 0.234: 100%|██████████| 50/50 [07:33<00:00,  9.06s/it]"
     ]
    },
    {
     "name": "stdout",
     "output_type": "stream",
     "text": [
      "[I 2025-06-08 18:31:04,263] Trial 49 finished with value: 0.211 and parameters: {'n_estimators': 260, 'max_depth': 30, 'min_samples_split': 8, 'min_samples_leaf': 1, 'max_features': 'sqrt'}. Best is trial 42 with value: 0.23399999999999999.\n",
      "Best parameters:\n",
      "{'n_estimators': 1166, 'max_depth': 16, 'min_samples_split': 6, 'min_samples_leaf': 8, 'max_features': 'sqrt'}\n",
      "Best CV accuracy: 0.2340\n"
     ]
    },
    {
     "name": "stderr",
     "output_type": "stream",
     "text": [
      "\n"
     ]
    }
   ],
   "execution_count": 28
  },
  {
   "metadata": {
    "ExecuteTime": {
     "end_time": "2025-06-08T16:48:37.572642Z",
     "start_time": "2025-06-08T16:43:57.653891Z"
    }
   },
   "cell_type": "code",
   "source": [
    "import pandas as pd\n",
    "import matplotlib.pyplot as plt\n",
    "from sklearn.ensemble import RandomForestClassifier\n",
    "from sklearn.model_selection import StratifiedKFold\n",
    "from sklearn.pipeline import Pipeline\n",
    "from sklearn.compose import ColumnTransformer\n",
    "from sklearn.preprocessing import StandardScaler, OneHotEncoder\n",
    "\n",
    "\n",
    "num_cols = [\n",
    "    'total_full_moves',\n",
    "    'moves_before_castle_white',\n",
    "    'moves_before_castle_black',\n",
    "    'legal_move_diff_at_25',\n",
    "    'legal_move_diff_at_50',\n",
    "    'legal_move_diff_at_75',\n",
    "    'legal_move_diff_at_100',\n",
    "    'development_before_white',\n",
    "    'development_before_black',\n",
    "    'center_control_after_5_white',\n",
    "    'center_control_after_5_black',\n",
    "    'unique_pieces_after_10_white',\n",
    "    'unique_pieces_after_10_black',\n",
    "    'blunder_counts_white',\n",
    "    'blunder_counts_black',\n",
    "    'first_blunder_move_white',\n",
    "    'first_blunder_move_black',\n",
    "    'mistake_counts_white',\n",
    "    'mistake_counts_black',\n",
    "    'first_mistake_move_white',\n",
    "    'first_mistake_move_black',\n",
    "    'first_win_opportunity_white',\n",
    "     'first_win_opportunity_black',\n",
    "    'first_opp_win_opportunity_white',\n",
    "    'first_opp_win_opportunity_black',\n",
    "    'knight_edge_first_white',\n",
    "    'knight_edge_first_black',\n",
    "    'knight_edge_count_white',\n",
    "    'knight_edge_count_black',\n",
    "    'rook_7th_first_white',\n",
    "    'rook_7th_first_black',\n",
    "    'pawn_counts_at_white_25_iso',\n",
    "    'pawn_counts_at_white_25_dbl',\n",
    "    'pawn_counts_at_white_25_tri',\n",
    "    'pawn_counts_at_white_50_iso',\n",
    "    'pawn_counts_at_white_50_dbl',\n",
    "    'pawn_counts_at_white_50_tri',\n",
    "    'pawn_counts_at_white_75_iso',\n",
    "    'pawn_counts_at_white_75_dbl',\n",
    "    'pawn_counts_at_white_75_tri',\n",
    "    'pawn_counts_at_white_100_iso',\n",
    "    'pawn_counts_at_white_100_dbl',\n",
    "    'pawn_counts_at_white_100_tri',\n",
    "    'pawn_counts_at_black_25_iso',\n",
    "    'pawn_counts_at_black_25_dbl',\n",
    "    'pawn_counts_at_black_25_tri',\n",
    "    'pawn_counts_at_black_50_iso',\n",
    "    'pawn_counts_at_black_50_dbl',\n",
    "    'pawn_counts_at_black_50_tri',\n",
    "    'pawn_counts_at_black_75_iso',\n",
    "    'pawn_counts_at_black_75_dbl',\n",
    "    'pawn_counts_at_black_75_tri',\n",
    "    'pawn_counts_at_black_100_iso',\n",
    "    'pawn_counts_at_black_100_dbl',\n",
    "    'pawn_counts_at_black_100_tri',\n",
    "    'black_acpl',\n",
    "    'white_acpl'\n",
    "]\n",
    "cat_cols = ['ECO', 'Termination']\n",
    "\n",
    "preprocessor = ColumnTransformer([\n",
    "    (\"num\", StandardScaler(), num_cols),\n",
    "    (\"cat\", OneHotEncoder(handle_unknown=\"ignore\"), cat_cols)\n",
    "])\n",
    "\n",
    "# best hp's determined by hyperparameter optimization ran on 1000 games\n",
    "#{'n_estimators': 1166, 'max_depth': 16, 'min_samples_split': 6, 'min_samples_leaf': 8, 'max_features': 'sqrt'}\n",
    "rf_pipeline = Pipeline([\n",
    "    (\"pre\", preprocessor),\n",
    "    (\"clf\", RandomForestClassifier(bootstrap = True, max_depth = 16, min_samples_leaf=8, min_samples_split=6, n_estimators = 1166, max_features='sqrt')),\n",
    "\n",
    "])\n",
    "\n",
    "cv = StratifiedKFold(n_splits=10, shuffle=True, random_state=42)\n",
    "\n",
    "\n",
    "def run_iterative_bin_classification(df, elo_bin_col='elo_bin', max_k=4, n_per_bin=15000):\n",
    "    accuracies = []\n",
    "\n",
    "    for k in range(max_k + 1):  # k = 0 → 4\n",
    "        left_bins = list(range(0, k + 1))          # e.g. [0], [0,1], ...\n",
    "        right_bins = list(range(9 - k, 10))        # e.g. [9], [8,9], ...\n",
    "\n",
    "        df_left = df[df[elo_bin_col].isin(left_bins)]\n",
    "        df_right = df[df[elo_bin_col].isin(right_bins)]\n",
    "\n",
    "        n = min(len(df_left), len(df_right), n_per_bin)\n",
    "\n",
    "        df_A = df_left.sample(n=n, random_state=42).copy()\n",
    "        df_B = df_right.sample(n=n, random_state=42).copy()\n",
    "\n",
    "        df_A['binary_class'] = 0\n",
    "        df_B['binary_class'] = 1\n",
    "\n",
    "        df_bin = pd.concat([df_A, df_B], axis=0).sample(frac=1, random_state=42)\n",
    "\n",
    "        X = df_bin[num_cols + cat_cols]\n",
    "        y = df_bin['binary_class']\n",
    "\n",
    "        acc = cross_val_score(rf_pipeline, X, y, cv=cv, scoring='accuracy', n_jobs=-1).mean()\n",
    "        print(f\"Bins {left_bins} vs {right_bins} → accuracy: {acc:.3f}\")\n",
    "\n",
    "        accuracies.append((left_bins, right_bins, acc))\n",
    "\n",
    "    return accuracies\n",
    "\n",
    "\n",
    "accuracies = run_iterative_bin_classification(raw, elo_bin_col='elo_bin', max_k=4, n_per_bin=8000)\n",
    "\n",
    "x_labels = [\"Bins 0–0 vs 9–9\", \"0–1 vs 8–9\", \"0–2 vs 7–9\", \"0–3 vs 6–9\", \"0–4 vs 5–9\"]\n",
    "y_vals = [acc for _, _, acc in accuracies]\n",
    "\n",
    "plt.figure(figsize=(10, 5))\n",
    "plt.plot(x_labels, y_vals, marker='o', label='Random Forest')\n",
    "plt.axhline(0.5, color='gray', linestyle='--', label='Chance')\n",
    "plt.ylabel(\"Accuracy\")\n",
    "plt.title(\"Iterative Binary Elo Classification (RF)\")\n",
    "plt.xticks(rotation=45)\n",
    "plt.legend()\n",
    "plt.tight_layout()\n",
    "plt.show()\n"
   ],
   "id": "6ebe28655eb40c83",
   "outputs": [
    {
     "name": "stdout",
     "output_type": "stream",
     "text": [
      "Bins [0] vs [9] → accuracy: 0.898\n",
      "Bins [0, 1] vs [8, 9] → accuracy: 0.839\n",
      "Bins [0, 1, 2] vs [7, 8, 9] → accuracy: 0.790\n",
      "Bins [0, 1, 2, 3] vs [6, 7, 8, 9] → accuracy: 0.746\n",
      "Bins [0, 1, 2, 3, 4] vs [5, 6, 7, 8, 9] → accuracy: 0.711\n"
     ]
    },
    {
     "data": {
      "text/plain": [
       "<Figure size 1000x500 with 1 Axes>"
      ],
      "image/png": "[encoded data removed]"
     },
     "metadata": {},
     "output_type": "display_data"
    }
   ],
   "execution_count": 30
  },
  {
   "metadata": {
    "ExecuteTime": {
     "end_time": "2025-06-08T16:43:15.500967Z",
     "start_time": "2025-06-08T16:32:45.883285Z"
    }
   },
   "cell_type": "code",
   "source": [
    "from sklearn.model_selection import train_test_split\n",
    "from sklearn.pipeline import Pipeline\n",
    "from sklearn.ensemble import RandomForestClassifier\n",
    "from sklearn.metrics import classification_report, accuracy_score\n",
    "\n",
    "X = raw[num_cols + cat_cols]\n",
    "y = raw['elo_bin']\n",
    "\n",
    "X_train, X_test, y_train, y_test = train_test_split(\n",
    "    X, y, test_size=0.2, stratify=y, random_state=42\n",
    ")\n",
    "\n",
    "#{'n_estimators': 1166, 'max_depth': 16, 'min_samples_split': 6, 'min_samples_leaf': 8, 'max_features': 'sqrt'}\n",
    "clf_pipeline = Pipeline([\n",
    "    (\"pre\", preprocessor),\n",
    "    (\"clf\", RandomForestClassifier(bootstrap = True, max_depth = 16, min_samples_leaf=8, min_samples_split=6, n_estimators = 1166, max_features='sqrt')),\n",
    "])\n",
    "clf_pipeline.fit(X_train, y_train)\n",
    "y_pred = clf_pipeline.predict(X_test)\n",
    "\n",
    "print(\"Accuracy:\", accuracy_score(y_test, y_pred))\n",
    "print(classification_report(y_test, y_pred, digits=3))"
   ],
   "id": "bbaad7a09e34be07",
   "outputs": [
    {
     "name": "stdout",
     "output_type": "stream",
     "text": [
      "Accuracy: 0.20985873029546043\n",
      "              precision    recall  f1-score   support\n",
      "\n",
      "           0      0.281     0.687     0.399      4664\n",
      "           1      0.151     0.137     0.144      4642\n",
      "           2      0.134     0.098     0.113      4643\n",
      "           3      0.147     0.059     0.085      4649\n",
      "           4      0.122     0.066     0.086      4654\n",
      "           5      0.133     0.071     0.093      4635\n",
      "           6      0.137     0.065     0.088      4623\n",
      "           7      0.154     0.099     0.120      4650\n",
      "           8      0.155     0.118     0.134      4654\n",
      "           9      0.273     0.697     0.392      4622\n",
      "\n",
      "    accuracy                          0.210     46436\n",
      "   macro avg      0.169     0.210     0.165     46436\n",
      "weighted avg      0.169     0.210     0.165     46436\n",
      "\n"
     ]
    }
   ],
   "execution_count": 29
  },
  {
   "metadata": {
    "ExecuteTime": {
     "end_time": "2025-06-08T15:39:19.147974Z",
     "start_time": "2025-06-08T15:39:19.048349Z"
    }
   },
   "cell_type": "code",
   "source": [
    "rf = clf_pipeline.named_steps['clf']\n",
    "importances = rf.feature_importances_\n",
    "print(pd.Series(importances).sort_values(ascending=False).head(20))\n"
   ],
   "id": "9f4f941ffa55d44a",
   "outputs": [
    {
     "name": "stdout",
     "output_type": "stream",
     "text": [
      "10     0.145261\n",
      "5      0.093314\n",
      "6      0.089630\n",
      "0      0.077822\n",
      "1      0.066781\n",
      "3      0.066622\n",
      "8      0.066541\n",
      "7      0.064389\n",
      "2      0.064228\n",
      "4      0.059644\n",
      "9      0.043740\n",
      "214    0.010163\n",
      "463    0.006386\n",
      "465    0.006338\n",
      "244    0.006115\n",
      "289    0.005021\n",
      "11     0.003706\n",
      "238    0.003593\n",
      "241    0.003438\n",
      "235    0.003332\n",
      "dtype: float64\n"
     ]
    }
   ],
   "execution_count": 21
  },
  {
   "metadata": {
    "jupyter": {
     "is_executing": true
    },
    "ExecuteTime": {
     "end_time": "2025-06-08T16:50:58.697525Z",
     "start_time": "2025-06-08T16:49:15.550120Z"
    }
   },
   "cell_type": "code",
   "source": [
    "from sklearn.svm import LinearSVC\n",
    "from sklearn.metrics import classification_report, accuracy_score, confusion_matrix\n",
    "import seaborn as sns\n",
    "\n",
    "#runtime on 10 shards (230k games): interrupted after 1.5h\n",
    "# TODO re-run\n",
    "\n",
    "svm_pipeline = Pipeline([\n",
    "    (\"pre\", preprocessor),\n",
    "    (\"clf\", LinearSVC(random_state=42))\n",
    "])\n",
    "\n",
    "svm_pipeline.fit(X_train, y_train)\n",
    "\n",
    "y_pred = svm_pipeline.predict(X_test)\n",
    "\n",
    "print(\"SVM Accuracy:\", accuracy_score(y_test, y_pred))\n",
    "print(classification_report(y_test, y_pred, digits=3))\n",
    "\n",
    "cm = confusion_matrix(y_test, y_pred)\n",
    "\n",
    "plt.figure(figsize=(10, 8))\n",
    "sns.heatmap(cm, annot=True, fmt=\"d\", cmap=\"Blues\",\n",
    "            xticklabels=sorted(y.unique()),\n",
    "            yticklabels=sorted(y.unique()))\n",
    "plt.xlabel(\"Predicted\")\n",
    "plt.ylabel(\"Actual\")\n",
    "plt.title(\"SVM Confusion Matrix\")\n",
    "plt.show()"
   ],
   "id": "bae92a086b06b297",
   "outputs": [],
   "execution_count": null
  },
  {
   "metadata": {},
   "cell_type": "code",
   "source": [
    "from sklearn.linear_model import LogisticRegression\n",
    "\n",
    "debug_model = Pipeline([\n",
    "    (\"pre\", preprocessor),\n",
    "    (\"clf\", LogisticRegression(max_iter=2000, solver='saga'))\n",
    "])\n",
    "debug_model.fit(X_train, y_train)\n",
    "print(\"Accuracy:\", debug_model.score(X_test, y_test))\n"
   ],
   "id": "3363cdfe20de24d9",
   "outputs": [],
   "execution_count": null
  },
  {
   "metadata": {
    "ExecuteTime": {
     "end_time": "2025-06-08T12:45:09.555346Z",
     "start_time": "2025-06-08T12:45:09.550799Z"
    }
   },
   "cell_type": "code",
   "source": [
    "import pandas as pd\n",
    "y_pred = y_pred.astype(int)\n",
    "\n",
    "print(\"Ground truth class distribution:\")\n",
    "print(pd.Series(y_test).value_counts().sort_index())\n",
    "\n",
    "print(\"\\nPredicted class distribution:\")\n",
    "print(pd.Series(y_pred).value_counts().sort_index())\n"
   ],
   "id": "e470dab7145fa2ad",
   "outputs": [
    {
     "name": "stdout",
     "output_type": "stream",
     "text": [
      "Ground truth class distribution:\n",
      "elo_bin\n",
      "0    4664\n",
      "1    4642\n",
      "2    4643\n",
      "3    4649\n",
      "4    4654\n",
      "5    4635\n",
      "6    4623\n",
      "7    4650\n",
      "8    4654\n",
      "9    4622\n",
      "Name: count, dtype: int64\n",
      "\n",
      "Predicted class distribution:\n",
      "0        5\n",
      "1       11\n",
      "2      344\n",
      "3     6412\n",
      "4    33158\n",
      "5     6384\n",
      "6      113\n",
      "7        8\n",
      "8        1\n",
      "Name: count, dtype: int64\n"
     ]
    }
   ],
   "execution_count": 34
  },
  {
   "metadata": {
    "ExecuteTime": {
     "end_time": "2025-06-08T12:45:35.252790Z",
     "start_time": "2025-06-08T12:45:35.113902Z"
    }
   },
   "cell_type": "code",
   "source": [
    "from sklearn.metrics import confusion_matrix\n",
    "import seaborn as sns\n",
    "import matplotlib.pyplot as plt\n",
    "\n",
    "cm = confusion_matrix(y_test, y_pred)\n",
    "\n",
    "plt.figure(figsize=(10, 8))\n",
    "sns.heatmap(cm, annot=True, fmt=\"d\", cmap=\"Blues\",\n",
    "            xticklabels=sorted(y.unique()),\n",
    "            yticklabels=sorted(y.unique()))\n",
    "plt.xlabel(\"Predicted\")\n",
    "plt.ylabel(\"Actual\")\n",
    "plt.title(\"Confusion Matrix\")\n",
    "plt.show()\n"
   ],
   "id": "4dc8eb23d8ba8328",
   "outputs": [
    {
     "data": {
      "text/plain": [
       "<Figure size 1000x800 with 2 Axes>"
      ],
      "image/png": "[encoded data removed]"
     },
     "metadata": {},
     "output_type": "display_data"
    }
   ],
   "execution_count": 35
  },
  {
   "metadata": {
    "ExecuteTime": {
     "end_time": "2025-06-08T12:45:47.045798Z",
     "start_time": "2025-06-08T12:45:47.039949Z"
    }
   },
   "cell_type": "code",
   "source": [
    "gt_counts = pd.Series(y_test).value_counts().sort_index()\n",
    "pred_counts = pd.Series(y_pred).value_counts().sort_index()\n",
    "diff = pred_counts - gt_counts\n",
    "\n",
    "print(\"\\nClass prediction bias (predicted - actual):\")\n",
    "print(diff.sort_values())\n"
   ],
   "id": "feb0ecf5960eea4a",
   "outputs": [
    {
     "name": "stdout",
     "output_type": "stream",
     "text": [
      "\n",
      "Class prediction bias (predicted - actual):\n",
      "0    -4659.0\n",
      "8    -4653.0\n",
      "7    -4642.0\n",
      "1    -4631.0\n",
      "6    -4510.0\n",
      "2    -4299.0\n",
      "5     1749.0\n",
      "3     1763.0\n",
      "4    28504.0\n",
      "9        NaN\n",
      "Name: count, dtype: float64\n"
     ]
    }
   ],
   "execution_count": 36
  },
  {
   "metadata": {},
   "cell_type": "code",
   "source": [
    "from sklearn.metrics import precision_recall_fscore_support\n",
    "\n",
    "prec, recall, f1, support = precision_recall_fscore_support(y_test, y_pred, labels=sorted(y.unique()))\n",
    "\n",
    "per_class_df = pd.DataFrame({\n",
    "    'precision': prec,\n",
    "    'recall': recall,\n",
    "    'f1': f1,\n",
    "    'support': support\n",
    "}, index=sorted(y.unique()))\n",
    "\n",
    "print(\"\\nPer-class metrics:\")\n",
    "print(per_class_df)\n"
   ],
   "id": "1c8f4d3e03be8008",
   "outputs": [],
   "execution_count": null
  },
  {
   "metadata": {
    "ExecuteTime": {
     "end_time": "2025-06-08T12:36:35.806192Z",
     "start_time": "2025-06-08T12:36:34.063069Z"
    }
   },
   "cell_type": "code",
   "source": [
    "import numpy as np\n",
    "\n",
    "y_true = y_test.values\n",
    "y_pred = clf_pipeline.predict(X_test)\n",
    "\n",
    "# absolute difference between predicted and true bin\n",
    "diff = np.abs(y_pred - y_true)\n",
    "\n",
    "within_one = np.mean(diff <= 1)\n",
    "print(f\"Within‑1‑bin accuracy: {within_one:.3f}\")"
   ],
   "id": "25f3cba97bd7a176",
   "outputs": [
    {
     "name": "stdout",
     "output_type": "stream",
     "text": [
      "Within‑1‑bin accuracy: 0.455\n"
     ]
    }
   ],
   "execution_count": 24
  },
  {
   "metadata": {},
   "cell_type": "markdown",
   "source": "",
   "id": "462220213aec1ff9"
  },
  {
   "metadata": {},
   "cell_type": "code",
   "outputs": [],
   "execution_count": null,
   "source": "",
   "id": "26bcab486b9a9d56"
  }
 ],
 "metadata": {
  "kernelspec": {
   "display_name": "Python 3",
   "language": "python",
   "name": "python3"
  },
  "language_info": {
   "codemirror_mode": {
    "name": "ipython",
    "version": 2
   },
   "file_extension": ".py",
   "mimetype": "text/x-python",
   "name": "python",
   "nbconvert_exporter": "python",
   "pygments_lexer": "ipython2",
   "version": "2.7.6"
  }
 },
 "nbformat": 4,
 "nbformat_minor": 5
}
