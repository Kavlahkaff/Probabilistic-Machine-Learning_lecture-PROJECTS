{
 "cells": [
  {
   "cell_type": "markdown",
   "id": "93dc77b0",
   "metadata": {},
   "source": [
    "[06.Juni.2025] Unfortunately, besides the small README.md file containing a sketch of your project structure, there is no other content that allows me to see your progress and provide feedback. Please ensure that you add more files and content to your project repository so that I can assist you better in the future.\n",
    "\n",
    "By now, everyone should have some progress in the cleaning, exploration and description of the data to include in a clean and orgnized way in the report file.\n",
    "\n"
   ]
  },
  {
   "cell_type": "markdown",
   "id": "41b8465c",
   "metadata": {},
   "source": []
  }
 ],
 "metadata": {
  "language_info": {
   "name": "python"
  }
 },
 "nbformat": 4,
 "nbformat_minor": 5
}
