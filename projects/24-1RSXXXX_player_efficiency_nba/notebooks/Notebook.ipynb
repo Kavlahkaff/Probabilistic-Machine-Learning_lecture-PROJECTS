{
 "cells": [
  {
   "cell_type": "markdown",
   "metadata": {
    "colab_type": "text",
    "id": "view-in-github"
   },
   "source": [
    "<a href=\"https://colab.research.google.com/github/IvaroEkel/Probabilistic-Machine-Learning_lecture-PROJECTS/blob/main/TEMPLATE_Probabilistic_Machine_Learning_Project_Report.ipynb\" target=\"_parent\"><img src=\"https://colab.research.google.com/assets/colab-badge.svg\" alt=\"Open In Colab\"/></a>"
   ]
  },
  {
   "cell_type": "markdown",
   "metadata": {
    "id": "HllaHun_QKXK"
   },
   "source": [
    "# Probabilistic Machine Learning - Project Report\n",
    "\n",
    "**Course:** Probabilistic Machine Learning (SoSe 2025)\n",
    "**Lecturer:** [Lecturer Name]  \n",
    "**Student(s) Name(s):**  \n",
    "**GitHub Username(s):**  \n",
    "**Date:**  \n",
    "**PROJECT-ID:** [Assigned Project ID]  \n",
    "\n",
    "---\n"
   ]
  },
  {
   "cell_type": "markdown",
   "metadata": {
    "id": "U9mvF1sORTHr"
   },
   "source": [
    "## 1. Introduction\n",
    "\n",
    "- Brief description of the dataset and problem\n",
    "- Motivation for your project"
   ]
  },
  {
   "cell_type": "markdown",
   "metadata": {},
   "source": [
    "<br><br>\n",
    "Among the most scrutinized aspects of the game of Basketball is shooting performance—an inherently complex phenomenon influenced by a wide range of situational, spatial, and psychological factors. This project aims to explore and model player-specific shooting accuracy using comprehensive shot-level data from the 2014–2015 NBA season.\n",
    "\n",
    "The dataset used in this project contains detailed information on nearly every shot attempted during the 2014–15 season. Each observed shot includes contextual game data (such as game ID, matchup, location, win/loss outcome, score margin), temporal indicators (game period, game clock, shot clock), as well as shot-specific attributes (dribbles before the shot, touch time, shot distance, shot result, points scored, field goals made). Crucially, the dataset also records the name and identity of the shooter, the identity and proximity of the closest defender, and the type of shot taken (e.g., 2PT or 3PT).\n",
    "\n",
    "\n",
    "The following table provides brief explanations of each attribute in the dataset—each corresponding to a single shot attempt—to help readers, especially those less familiar with basketball, understand the contextual meaning of the variables used in the analysis.\n",
    "\n",
    "<br>\n",
    "\n",
    "| Attribute                    | Description                                                                                  |\n",
    "|------------------------------|----------------------------------------------------------------------------------------------|\n",
    "| `GAME_ID`                    | Unique identifier for the specific NBA game.                                                 |\n",
    "| `MATCHUP`                    | The two teams playing in the game (e.g., \"LAL vs BOS\").                                      |\n",
    "| `LOCATION`                   | Indicates if the shot was taken at home (\"H\") or away (\"A\").                                 |\n",
    "| `WIN-LOSS`                   | Whether the shooter's team won or lost the game (\"W\" or \"L\").                                |\n",
    "| `FINAL SCORE MARGIN`         | Point difference between the teams at the end of the game.                                   |\n",
    "| `SHOT_NUMBER`                | The sequence number of the shot by the player in that game.                                  |\n",
    "| `PERIOD`                     | Game period (1–4 for quarters, 5+ for overtime periods).                                     |\n",
    "| `GAME_CLOCK`                 | Time left in the current period when the shot was taken (e.g., \"02:35\").                     |\n",
    "| `SHOT_CLOCK`                 | Seconds remaining on the shot clock (24 seconds max) when the shot was taken.                |\n",
    "| `DRIBBLES`                   | Number of dribbles taken by the player before attempting the shot.                           |\n",
    "| `TOUCH_TIME`                 | How long (in seconds) the player held the ball before shooting.                              |\n",
    "| `SHOT_DISTANCE`              | Distance from the basket (in feet) at which the shot was taken.                              |\n",
    "| `PTS_TYPE`                   | Type of shot based on scoring value: 2 (2-point shot) or 3 (3-point shot).                   |\n",
    "| `SHOT_RESULT`                | Whether the shot was made (\"made\") or missed (\"missed\").                                     |\n",
    "| `CLOSEST_DEFENDER`           | Name of the defender closest to the shooter at the moment of the shot.                       |\n",
    "| `CLOSEST_DEFENDER_PLAYER_ID` | Unique ID of the closest defender.                                                           |\n",
    "| `CLOSE_DEF_DIST`             | Distance (in feet) between shooter and closest defender.                                     |\n",
    "| `FGM`                        | Field Goal Made: binary variable (1 if made, 0 if missed).                                   |\n",
    "| `PTS`                        | Points scored by the shooter on that shot (0, 2, or 3).                                      |\n",
    "| `player_name`                | Name of the player who took the shot.                                                        |\n",
    "| `player_id`                  | Unique identifier of the player who took the shot.                                           |\n",
    "\n",
    "<br><br>"
   ]
  },
  {
   "cell_type": "markdown",
   "metadata": {},
   "source": [
    "#### Motivation\n",
    "\n",
    "This rich and multidimensional dataset enables a detailed investigation into how various in-game factors affect shooting success on a player-by-player basis. The central motivation for this project is to model shooting percentages individually for each player and to understand how situational and environmental variables influence their shooting efficiency. For instance, do some players exhibit a significant decline in shooting accuracy under high-pressure scenarios, such as during clutch moments late in the game? How does shooting performance vary with increasing shot distance or as the proximity of the closest defender decreases? These questions touch not only on spatial and statistical relationships but also on potential psychological influences on player performance.\n",
    "\n",
    "To capture these dynamics, I apply Bayesian logistic regression, modeling the probability of a shot being successful (i.e., a made field goal) as a function of relevant covariates. The binary nature of the response variable—made or missed shot—naturally lends itself to logistic regression. A Bayesian framework offers several advantages in this context: it allows for incorporating prior knowledge or regularization to account for limited data on specific players or situations; it produces full posterior distributions of the parameters, which is particularly valuable when dealing with uncertainty; and it enables hierarchical modeling, which can be extended to share information across players while still allowing individual-specific effects.\n",
    "\n",
    "In summary, this project leverages advanced statistical modeling to examine NBA shooting data with the aim of uncovering deeper insights into individual player tendencies and the contextual factors that influence shooting success. The results can contribute to a more nuanced understanding of player efficiency and the psychological or tactical dimensions of shot-making in professional basketball.\n",
    "\n",
    "<br><br>"
   ]
  },
  {
   "cell_type": "markdown",
   "metadata": {
    "id": "rWmVdPMYRW4u"
   },
   "source": [
    "\n",
    "## 2. Data Loading and Exploration\n",
    "\n",
    "- Code to load data\n",
    "- Basic exploration (plots, statistics, missing data, etc.)\n",
    "\n"
   ]
  },
  {
   "cell_type": "code",
   "execution_count": null,
   "metadata": {},
   "outputs": [],
   "source": [
    "# load data:\n",
    "\n",
    "shot_logs = pd.read_csv('../data/shot_logs.csv')"
   ]
  },
  {
   "cell_type": "code",
   "execution_count": 16,
   "metadata": {},
   "outputs": [
    {
     "data": {
      "image/png": "[encoded data removed]",
      "text/plain": [
       "<Figure size 864x432 with 1 Axes>"
      ]
     },
     "metadata": {
      "needs_background": "light"
     },
     "output_type": "display_data"
    }
   ],
   "source": [
    "import pandas as pd\n",
    "import matplotlib.pyplot as plt\n",
    "\n",
    "# Gruppieren nach Spielername und Anzahl der Würfe zählen\n",
    "shot_counts = shot_logs['player_name'].value_counts().sort_values(ascending=False)\n",
    "\n",
    "# Optional: Top N Spieler anzeigen (z. B. Top 20)\n",
    "top_n = 40\n",
    "shot_counts_top = shot_counts.head(top_n)\n",
    "\n",
    "# Barplot erstellen\n",
    "plt.figure(figsize=(12, 6))\n",
    "shot_counts_top.plot(kind='bar', color='skyblue', edgecolor='black')\n",
    "\n",
    "# Achsenbeschriftungen und Titel\n",
    "plt.xlabel('Player Name')\n",
    "plt.ylabel('Number of Shots')\n",
    "plt.title(f'Top {top_n} Players by Number of Shots (2014–15 Season)')\n",
    "plt.xticks(rotation=45, ha='right')\n",
    "plt.tight_layout()\n",
    "\n",
    "# Plot anzeigen\n",
    "plt.show()\n"
   ]
  },
  {
   "cell_type": "code",
   "execution_count": 17,
   "metadata": {},
   "outputs": [
    {
     "data": {
      "image/png": "[encoded data removed]",
      "text/plain": [
       "<Figure size 720x432 with 1 Axes>"
      ]
     },
     "metadata": {
      "needs_background": "light"
     },
     "output_type": "display_data"
    }
   ],
   "source": [
    "import pandas as pd\n",
    "import matplotlib.pyplot as plt\n",
    "import numpy as np\n",
    "\n",
    "# Wurfanzahl pro Spieler berechnen\n",
    "shot_counts = shot_logs['player_name'].value_counts()\n",
    "\n",
    "# Ranges definieren (Bins)\n",
    "bins = [0, 200, 300, 400, 500, 600, 700, 800, 2000]\n",
    "labels = [f'{bins[i]}–{bins[i+1]}' for i in range(len(bins)-2)]\n",
    "labels.append('800+')\n",
    "\n",
    "# Spieler den entsprechenden Ranges zuordnen\n",
    "shot_bins = pd.cut(shot_counts, bins=bins, labels=labels, right=False)\n",
    "\n",
    "# Spieler pro Range zählen\n",
    "range_counts = shot_bins.value_counts().sort_index()\n",
    "\n",
    "# Barplot erstellen\n",
    "plt.figure(figsize=(10, 6))\n",
    "range_counts.plot(kind='bar', color='coral', edgecolor='black')\n",
    "\n",
    "# Achsenbeschriftungen und Titel\n",
    "plt.xlabel('Number of Shots Taken (Range)')\n",
    "plt.ylabel('Number of Players')\n",
    "plt.title('Distribution of Players by Total Number of Shots (2014–15 Season)')\n",
    "plt.xticks(rotation=45, ha='right')\n",
    "plt.grid(axis='y', linestyle='--', alpha=0.7)\n",
    "plt.tight_layout()\n",
    "\n",
    "# Plot anzeigen\n",
    "plt.show()\n"
   ]
  },
  {
   "cell_type": "markdown",
   "metadata": {
    "id": "LRUhDk7WRbiZ"
   },
   "source": [
    "## 3. Data Preprocessing\n",
    "\n",
    "- Steps taken to clean or transform the data\n",
    "\n",
    "\n"
   ]
  },
  {
   "cell_type": "code",
   "execution_count": 16,
   "metadata": {},
   "outputs": [
    {
     "name": "stdout",
     "output_type": "stream",
     "text": [
      "=== MISSING VALUES ===\n",
      "SHOT_CLOCK: 5567 missing values\n",
      "\n",
      "=== FORMAT ISSUES ===\n",
      "No formatting issues found\n",
      "\n",
      "=== CONSISTENCY ISSUES ===\n",
      "No consistency issues found\n",
      "\n",
      "Problematic rows saved to 'problematic_rows.csv'\n"
     ]
    }
   ],
   "source": [
    "import pandas as pd\n",
    "import numpy as np\n",
    "\n",
    "def validate_data(df):\n",
    "    \"\"\"Perform comprehensive data validation on the basketball shots dataset\"\"\"\n",
    "    \n",
    "    # Initialize results dictionary\n",
    "    validation_results = {\n",
    "        'missing_values': {},\n",
    "        'format_issues': {},\n",
    "        'consistency_issues': []\n",
    "    }\n",
    "    \n",
    "    # 1. Check for missing values in each column\n",
    "    validation_results['missing_values'] = df.isnull().sum().to_dict()\n",
    "    \n",
    "    # 2. Check specific formatting issues\n",
    "    format_issues = {}\n",
    "    \n",
    "    # Check GAME_CLOCK format (MM:SS)\n",
    "    game_clock_ok = df['GAME_CLOCK'].str.match(r'^\\d{1,2}:\\d{2}$') | df['GAME_CLOCK'].isna()\n",
    "    if not game_clock_ok.all():\n",
    "        format_issues['GAME_CLOCK'] = f\"{sum(~game_clock_ok)} rows with unexpected format\"\n",
    "    \n",
    "    # Check SHOT_CLOCK values (between 0 and 24 or NaN)\n",
    "    shot_clock_issues = df['SHOT_CLOCK'].apply(lambda x: not (np.isnan(x) or (0 <= x <= 24)))\n",
    "    if shot_clock_issues.any():\n",
    "        format_issues['SHOT_CLOCK'] = f\"{shot_clock_issues.sum()} rows with values outside 0-24 range\"\n",
    "    \n",
    "    # Check LOCATION values (only A or H)\n",
    "    location_issues = ~df['LOCATION'].isin(['A', 'H'])\n",
    "    if location_issues.any():\n",
    "        format_issues['LOCATION'] = f\"{location_issues.sum()} rows with invalid location codes\"\n",
    "    \n",
    "    # Check PERIOD values (1-4 for regulation, 5+ for OT)\n",
    "    period_issues = df['PERIOD'] < 1\n",
    "    if period_issues.any():\n",
    "        format_issues['PERIOD'] = f\"{period_issues.sum()} rows with invalid period numbers\"\n",
    "    \n",
    "    validation_results['format_issues'] = format_issues\n",
    "    \n",
    "    # 3. Check data consistency\n",
    "    consistency_issues = []\n",
    "    \n",
    "    # FGM should match SHOT_RESULT\n",
    "    fgm_mismatch = (df['FGM'] == 1) != (df['SHOT_RESULT'] == 'made')\n",
    "    if fgm_mismatch.any():\n",
    "        consistency_issues.append(f\"FGM/SHOT_RESULT mismatch in {fgm_mismatch.sum()} rows\")\n",
    "    \n",
    "    # PTS should match PTS_TYPE when shot is made\n",
    "    pts_mismatch = (df['FGM'] == 1) & (df['PTS'] != df['PTS_TYPE'])\n",
    "    if pts_mismatch.any():\n",
    "        consistency_issues.append(f\"PTS/PTS_TYPE mismatch in {pts_mismatch.sum()} rows\")\n",
    "    \n",
    "    # SHOT_DIST should be positive\n",
    "    shot_dist_issues = df['SHOT_DIST'] < 0\n",
    "    if shot_dist_issues.any():\n",
    "        consistency_issues.append(f\"Negative SHOT_DIST in {shot_dist_issues.sum()} rows\")\n",
    "    \n",
    "    validation_results['consistency_issues'] = consistency_issues\n",
    "    \n",
    "    return validation_results\n",
    "\n",
    "def generate_report(validation_results):\n",
    "    \"\"\"Generate a human-readable report from validation results\"\"\"\n",
    "    report = []\n",
    "    \n",
    "    # Missing values section\n",
    "    report.append(\"=== MISSING VALUES ===\")\n",
    "    missing_values = validation_results['missing_values']\n",
    "    if any(missing_values.values()):\n",
    "        for col, count in missing_values.items():\n",
    "            if count > 0:\n",
    "                report.append(f\"{col}: {count} missing values\")\n",
    "    else:\n",
    "        report.append(\"No missing values found in any column\")\n",
    "    \n",
    "    # Format issues section\n",
    "    report.append(\"\\n=== FORMAT ISSUES ===\")\n",
    "    format_issues = validation_results['format_issues']\n",
    "    if format_issues:\n",
    "        for col, issue in format_issues.items():\n",
    "            report.append(f\"{col}: {issue}\")\n",
    "    else:\n",
    "        report.append(\"No formatting issues found\")\n",
    "    \n",
    "    # Consistency issues section\n",
    "    report.append(\"\\n=== CONSISTENCY ISSUES ===\")\n",
    "    consistency_issues = validation_results['consistency_issues']\n",
    "    if consistency_issues:\n",
    "        for issue in consistency_issues:\n",
    "            report.append(issue)\n",
    "    else:\n",
    "        report.append(\"No consistency issues found\")\n",
    "    \n",
    "    return \"\\n\".join(report)\n",
    "\n",
    "def identify_problematic_rows(df, validation_results):\n",
    "    \"\"\"Identify rows with any issues\"\"\"\n",
    "    mask = pd.Series(False, index=df.index)\n",
    "    \n",
    "    # Missing values\n",
    "    for col, count in validation_results['missing_values'].items():\n",
    "        if count > 0:\n",
    "            mask |= df[col].isna()\n",
    "    \n",
    "    if 'GAME_CLOCK' in validation_results['format_issues']:\n",
    "        mask |= ~df['GAME_CLOCK'].str.match(r'^\\d{1,2}:\\d{2}$')\n",
    "    \n",
    "    # Consistency issues\n",
    "    mask |= (df['FGM'] == 1) != (df['SHOT_RESULT'] == 'made')\n",
    "    mask |= (df['FGM'] == 1) & (df['PTS'] != df['PTS_TYPE'])\n",
    "    mask |= (df['SHOT_DIST'] < 0)\n",
    "    \n",
    "    return df[mask]\n",
    "\n",
    "\n",
    "def main():\n",
    "    # Load the dataset\n",
    "    try:\n",
    "        df = pd.read_csv('../data/shot_logs.csv')\n",
    "    except FileNotFoundError:\n",
    "        print(\"Error: File not found. Please check the filename and path.\")\n",
    "        return\n",
    "    \n",
    "    # Perform validation\n",
    "    validation_results = validate_data(df)\n",
    "    \n",
    "    # Generate and print report\n",
    "    report = generate_report(validation_results)\n",
    "    print(report)\n",
    "    \n",
    "    # Save problematic rows to a file for inspection\n",
    "    if any(validation_results['missing_values'].values()) or validation_results['format_issues'] or validation_results['consistency_issues']:\n",
    "        problematic_rows = identify_problematic_rows(df, validation_results)\n",
    "        problematic_rows.to_csv('problematic_rows.csv', index=False)\n",
    "        print(\"\\nProblematic rows saved to 'problematic_rows.csv'\")\n",
    "\n",
    "\n",
    "if __name__ == '__main__':\n",
    "    main()"
   ]
  },
  {
   "cell_type": "markdown",
   "metadata": {
    "id": "HtlE5KFnRfhM"
   },
   "source": [
    "## 4. Probabilistic Modeling Approach\n",
    "\n",
    "- Description of the models chosen\n",
    "- Why they are suitable for your problem\n",
    "- Mathematical formulations (if applicable)\n",
    "\n"
   ]
  },
  {
   "cell_type": "code",
   "execution_count": null,
   "metadata": {},
   "outputs": [],
   "source": []
  },
  {
   "cell_type": "markdown",
   "metadata": {
    "id": "ndWeYCrFRhWa"
   },
   "source": [
    "## 5. Model Training and Evaluation\n",
    "\n",
    "- Training process\n",
    "- Model evaluation (metrics, plots, performance)\n",
    "- Cross-validation or uncertainty quantification\n",
    "\n"
   ]
  },
  {
   "cell_type": "code",
   "execution_count": null,
   "metadata": {},
   "outputs": [],
   "source": []
  },
  {
   "cell_type": "markdown",
   "metadata": {
    "id": "kgVmBrEoRlbi"
   },
   "source": [
    "## 6. Results\n",
    "\n",
    "- Present key findings\n",
    "- Comparison of models if multiple approaches were used\n",
    "\n"
   ]
  },
  {
   "cell_type": "code",
   "execution_count": null,
   "metadata": {},
   "outputs": [],
   "source": []
  },
  {
   "cell_type": "markdown",
   "metadata": {
    "id": "H0MIdzBjRnGK"
   },
   "source": [
    "## 7. Discussion\n",
    "\n",
    "- Interpretation of results\n",
    "- Limitations of the approach\n",
    "- Possible improvements or extensions\n",
    "\n"
   ]
  },
  {
   "cell_type": "code",
   "execution_count": null,
   "metadata": {},
   "outputs": [],
   "source": []
  },
  {
   "cell_type": "markdown",
   "metadata": {
    "id": "hkAD7WOFRour"
   },
   "source": [
    "## 8. Conclusion\n",
    "\n",
    "- Summary of main outcomes\n",
    "\n"
   ]
  },
  {
   "cell_type": "code",
   "execution_count": null,
   "metadata": {},
   "outputs": [],
   "source": []
  },
  {
   "cell_type": "markdown",
   "metadata": {
    "id": "4de-OwR1RqBG"
   },
   "source": [
    "## 9. References\n",
    "\n",
    "- Cite any papers, datasets, or tools used"
   ]
  },
  {
   "cell_type": "code",
   "execution_count": null,
   "metadata": {},
   "outputs": [],
   "source": []
  }
 ],
 "metadata": {
  "colab": {
   "authorship_tag": "ABX9TyMd8hNYfc5F/MlA7kSAzq0o",
   "include_colab_link": true,
   "private_outputs": true,
   "provenance": []
  },
  "kernelspec": {
   "display_name": "Python 3 (ipykernel)",
   "language": "python",
   "name": "python3"
  },
  "language_info": {
   "codemirror_mode": {
    "name": "ipython",
    "version": 3
   },
   "file_extension": ".py",
   "mimetype": "text/x-python",
   "name": "python",
   "nbconvert_exporter": "python",
   "pygments_lexer": "ipython3",
   "version": "3.8.10"
  }
 },
 "nbformat": 4,
 "nbformat_minor": 4
}
