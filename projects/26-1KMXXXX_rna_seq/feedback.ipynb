{
 "cells": [
  {
   "cell_type": "markdown",
   "id": "675cb6ff",
   "metadata": {},
   "source": [
    "[06.Juni.2025] It is great to see that you are progressing with the first phases of the project. I left you a reference that might be useful. \n"
   ]
  }
 ],
 "metadata": {
  "language_info": {
   "name": "python"
  }
 },
 "nbformat": 4,
 "nbformat_minor": 5
}
